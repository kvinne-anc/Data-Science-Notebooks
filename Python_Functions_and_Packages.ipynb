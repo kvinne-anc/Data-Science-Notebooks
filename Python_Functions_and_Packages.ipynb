{
  "nbformat": 4,
  "nbformat_minor": 0,
  "metadata": {
    "colab": {
      "name": "Python_Functions_and_Packages.ipynb",
      "provenance": [],
      "collapsed_sections": [],
      "include_colab_link": true
    },
    "kernelspec": {
      "name": "python3",
      "display_name": "Python 3"
    }
  },
  "cells": [
    {
      "cell_type": "markdown",
      "metadata": {
        "id": "view-in-github",
        "colab_type": "text"
      },
      "source": [
        "<a href=\"https://colab.research.google.com/github/kvinne-anc/Data-Science-Notebooks/blob/main/Python_Functions_and_Packages.ipynb\" target=\"_parent\"><img src=\"https://colab.research.google.com/assets/colab-badge.svg\" alt=\"Open In Colab\"/></a>"
      ]
    },
    {
      "cell_type": "markdown",
      "metadata": {
        "id": "ZvNsvUNNlZbi"
      },
      "source": [
        "---\n",
        "# Lambda School Data Science - Intro to Python  \n",
        "---\n",
        "# 04 - Python Functions & Packages\n",
        "---\n",
        "\n"
      ]
    },
    {
      "cell_type": "markdown",
      "metadata": {
        "id": "y8HUQb0OOztX"
      },
      "source": [
        "##STOP! BEFORE GOING ANY FURTHER...  \n",
        "\n",
        "\n",
        "1. Click \"File\" at the top.\n",
        "2. Then, \"Save a Copy in Drive.\"\n",
        "3. Change the file name to \"FIRSTNAME_LASTNAME_1_2\"  \n",
        "\n",
        "Now you have a copy of this notebook in your Drive account. This is the copy you'll edit and submit. Be sure to do this for ***every*** assignment!\n",
        "\n",
        "\n"
      ]
    },
    {
      "cell_type": "markdown",
      "metadata": {
        "id": "o57NvhYkBjKH"
      },
      "source": [
        "## Part 1: Functions\n"
      ]
    },
    {
      "cell_type": "markdown",
      "metadata": {
        "id": "xMq6Of2Gt24o"
      },
      "source": [
        "### Built-in functions\n",
        "\n",
        "\n",
        "---\n",
        "\n",
        "\n",
        "Make sure to run the cell below before beginning your assignment."
      ]
    },
    {
      "cell_type": "code",
      "metadata": {
        "id": "h3r0IvHVuGJb",
        "colab": {
          "base_uri": "https://localhost:8080/",
          "height": 34
        },
        "outputId": "1f9e2feb-2099-49a9-f1a3-95f9bfdaffae"
      },
      "source": [
        "x = [\"a\", \"b\", \"c\", \"d\", \"e\", \"f\"]\n",
        "x"
      ],
      "execution_count": null,
      "outputs": [
        {
          "output_type": "execute_result",
          "data": {
            "text/plain": [
              "['a', 'b', 'c', 'd', 'e', 'f']"
            ]
          },
          "metadata": {
            "tags": []
          },
          "execution_count": 19
        }
      ]
    },
    {
      "cell_type": "markdown",
      "metadata": {
        "id": "4haXpvn1QXW_"
      },
      "source": [
        "### 1.1 For the list of values provided:\n",
        "\n",
        "\n",
        "*   Max?\n",
        "*   Min?\n",
        "*   Number of elements in the list?\n",
        "*   Sort the list in _descending_ order.\n",
        "\n"
      ]
    },
    {
      "cell_type": "code",
      "metadata": {
        "id": "j79FBPrS3TFS",
        "colab": {
          "base_uri": "https://localhost:8080/",
          "height": 34
        },
        "outputId": "96a10795-9a41-444c-f505-fc07e6cc3109"
      },
      "source": [
        "max(x)\n",
        "\n"
      ],
      "execution_count": null,
      "outputs": [
        {
          "output_type": "execute_result",
          "data": {
            "text/plain": [
              "'f'"
            ]
          },
          "metadata": {
            "tags": []
          },
          "execution_count": 3
        }
      ]
    },
    {
      "cell_type": "code",
      "metadata": {
        "id": "dDyB_628j1qD",
        "colab": {
          "base_uri": "https://localhost:8080/",
          "height": 34
        },
        "outputId": "af7151f4-6640-439b-896a-a5597c153652"
      },
      "source": [
        "min(x)\n"
      ],
      "execution_count": null,
      "outputs": [
        {
          "output_type": "execute_result",
          "data": {
            "text/plain": [
              "'a'"
            ]
          },
          "metadata": {
            "tags": []
          },
          "execution_count": 4
        }
      ]
    },
    {
      "cell_type": "code",
      "metadata": {
        "id": "9_2Rz6yNj4Wy",
        "colab": {
          "base_uri": "https://localhost:8080/",
          "height": 34
        },
        "outputId": "31fcd637-444c-4c9d-ddb7-9f6d8b6b91c0"
      },
      "source": [
        "len(x)\n"
      ],
      "execution_count": null,
      "outputs": [
        {
          "output_type": "execute_result",
          "data": {
            "text/plain": [
              "6"
            ]
          },
          "metadata": {
            "tags": []
          },
          "execution_count": 5
        }
      ]
    },
    {
      "cell_type": "code",
      "metadata": {
        "id": "dVGMGDzrj7ga",
        "colab": {
          "base_uri": "https://localhost:8080/",
          "height": 34
        },
        "outputId": "2cba92fe-2353-4bd5-bc4a-0715cc118a0d"
      },
      "source": [
        "x.sort(reverse = True)\n",
        "\n",
        "x\n",
        "\n"
      ],
      "execution_count": null,
      "outputs": [
        {
          "output_type": "execute_result",
          "data": {
            "text/plain": [
              "['f', 'e', 'd', 'c', 'b', 'a']"
            ]
          },
          "metadata": {
            "tags": []
          },
          "execution_count": 24
        }
      ]
    },
    {
      "cell_type": "markdown",
      "metadata": {
        "id": "zqzzZomJ0IKf"
      },
      "source": [
        "### Methods\n",
        "\n",
        "\n",
        "---\n",
        "\n"
      ]
    },
    {
      "cell_type": "markdown",
      "metadata": {
        "id": "8EYDz3UtQflV"
      },
      "source": [
        "### 1.2 Using the same list:\n",
        "\n",
        "*  Remove the second to last element. \n",
        "*  Add the letter \"z\" to the list.\n",
        "*  Empty out the list.\n"
      ]
    },
    {
      "cell_type": "code",
      "metadata": {
        "id": "HOf18kjSQjZM",
        "colab": {
          "base_uri": "https://localhost:8080/",
          "height": 34
        },
        "outputId": "7f003264-f3f0-43d2-f027-4c947edaf7b7"
      },
      "source": [
        "x.append('z')\n",
        "x"
      ],
      "execution_count": null,
      "outputs": [
        {
          "output_type": "execute_result",
          "data": {
            "text/plain": [
              "['f', 'd', 'c', 'b', 'a', 'z']"
            ]
          },
          "metadata": {
            "tags": []
          },
          "execution_count": 32
        }
      ]
    },
    {
      "cell_type": "markdown",
      "metadata": {
        "id": "wTJ29ehV4aEA"
      },
      "source": [
        "### 1.3 For the string provided:\n",
        "\n",
        "* Capitalize the entire string.\n",
        "* Split the string at every empty space."
      ]
    },
    {
      "cell_type": "code",
      "metadata": {
        "id": "eoKEv5uS4w29"
      },
      "source": [
        "y = \"to thine own self be true, and it must follow, as the night the day, thou canst not then be false to any man.\""
      ],
      "execution_count": null,
      "outputs": []
    },
    {
      "cell_type": "code",
      "metadata": {
        "id": "zrf34dksmbbg",
        "colab": {
          "base_uri": "https://localhost:8080/",
          "height": 34
        },
        "outputId": "a9d67c7b-3fd7-4cf2-add4-001bbcbadf87"
      },
      "source": [
        "y.capitalize()\n"
      ],
      "execution_count": null,
      "outputs": [
        {
          "output_type": "execute_result",
          "data": {
            "text/plain": [
              "'To thine own self be true, and it must follow, as the night the day, thou canst not then be false to any man.'"
            ]
          },
          "metadata": {
            "tags": []
          },
          "execution_count": 36
        }
      ]
    },
    {
      "cell_type": "markdown",
      "metadata": {
        "id": "B5hfG_xs0fp0"
      },
      "source": [
        "### Custom Functions\n",
        "\n",
        "\n",
        "---\n",
        "\n"
      ]
    },
    {
      "cell_type": "markdown",
      "metadata": {
        "id": "SrhmB_rj0rhB"
      },
      "source": [
        "### 1.4 Create a function that returns the sum of two numbers."
      ]
    },
    {
      "cell_type": "code",
      "metadata": {
        "id": "snTXP3DI0qTX",
        "colab": {
          "base_uri": "https://localhost:8080/",
          "height": 129
        },
        "outputId": "768cf997-1a8a-48b4-fbbe-9b544cb16f5a"
      },
      "source": [
        "num_list = [1, 2, 3, 4, 5, 6, 7, 8, 9, 10]\n",
        "def for num in num_list:\n",
        "  total += num_list\n",
        "    return total\n",
        "\n",
        "    # I am not understanding how to define these variables, the example seems to show simply writing some short version that denotes an item. \n"
      ],
      "execution_count": null,
      "outputs": [
        {
          "output_type": "error",
          "ename": "SyntaxError",
          "evalue": "ignored",
          "traceback": [
            "\u001b[0;36m  File \u001b[0;32m\"<ipython-input-38-3fefb5c0c6a8>\"\u001b[0;36m, line \u001b[0;32m2\u001b[0m\n\u001b[0;31m    def for num in num_list:\u001b[0m\n\u001b[0m          ^\u001b[0m\n\u001b[0;31mSyntaxError\u001b[0m\u001b[0;31m:\u001b[0m invalid syntax\n"
          ]
        }
      ]
    },
    {
      "cell_type": "markdown",
      "metadata": {
        "id": "YcEwAg9w6PDQ"
      },
      "source": [
        "### 1.5 Create a function that, given a list of numbers, returns their average."
      ]
    },
    {
      "cell_type": "code",
      "metadata": {
        "id": "CM4cRycq6PTC",
        "colab": {
          "base_uri": "https://localhost:8080/",
          "height": 34
        },
        "outputId": "a9d052b6-2229-48b5-c7b9-03078de9e6fd"
      },
      "source": [
        "data = [1, 2, 3, 10, 33, 16, 22, 87, 4]\n",
        "\n",
        "def mean(num_list):\n",
        "  total = 0 \n",
        "  for num in num_list:\n",
        "    total += num\n",
        "    average = total / len(num_list)\n",
        "  return average \n",
        "\n",
        "mean(data)\n",
        "\n"
      ],
      "execution_count": null,
      "outputs": [
        {
          "output_type": "execute_result",
          "data": {
            "text/plain": [
              "19.77777777777778"
            ]
          },
          "metadata": {
            "tags": []
          },
          "execution_count": 39
        }
      ]
    },
    {
      "cell_type": "markdown",
      "metadata": {
        "id": "PDLwYCAn6PbL"
      },
      "source": [
        "### 1.6 Create a function that, given a string, returns that string capitalized and reversed. "
      ]
    },
    {
      "cell_type": "code",
      "metadata": {
        "id": "lp412i2e6PiN"
      },
      "source": [
        "y = \"This is a string\"\n",
        "\n",
        "def caprev(words):\n",
        "  for wor in words: \n",
        "    new = y.capitzalize()\n",
        "    newz = (new) + y.reverse()\n",
        "  return newz\n",
        "\n",
        "  #I don't know if this worked but it doesn't seem like it - how can I apply these principles to strings? \n",
        "  \n",
        "  "
      ],
      "execution_count": null,
      "outputs": []
    },
    {
      "cell_type": "markdown",
      "metadata": {
        "id": "MHeit5A_6Pot"
      },
      "source": [
        "### 1.7 Create a function that, given a list of strings, concatenates them together with proper spacing."
      ]
    },
    {
      "cell_type": "code",
      "metadata": {
        "id": "nHA4Rg6W6Puu",
        "colab": {
          "base_uri": "https://localhost:8080/",
          "height": 34
        },
        "outputId": "14ec4ed5-59ca-41b0-ed53-d08b882f0c38"
      },
      "source": [
        "orig_string = 'Hello'\n",
        "orig_string + ', world'\n"
      ],
      "execution_count": null,
      "outputs": [
        {
          "output_type": "execute_result",
          "data": {
            "text/plain": [
              "'Hello, world'"
            ]
          },
          "metadata": {
            "tags": []
          },
          "execution_count": 42
        }
      ]
    },
    {
      "cell_type": "code",
      "metadata": {
        "id": "-jLNMj77tJxz",
        "colab": {
          "base_uri": "https://localhost:8080/",
          "height": 34
        },
        "outputId": "4ebe786a-cb7d-4774-c721-ff19b1d64949"
      },
      "source": [
        "orig_string\n",
        "full_sentence = orig_string + ', world'\n",
        "full_sentence\n"
      ],
      "execution_count": null,
      "outputs": [
        {
          "output_type": "execute_result",
          "data": {
            "text/plain": [
              "'Hello, world'"
            ]
          },
          "metadata": {
            "tags": []
          },
          "execution_count": 44
        }
      ]
    },
    {
      "cell_type": "markdown",
      "metadata": {
        "id": "GFpCBnZolyWY"
      },
      "source": [
        "## Part 2: Packages"
      ]
    },
    {
      "cell_type": "markdown",
      "metadata": {
        "id": "_sq5HypwyvXS"
      },
      "source": [
        "### 2.1 Import the Random library and use it to create a list of ten random numbers from 0-50.\n",
        "There are several ways to do this. Google around and find one that you can replicate here. "
      ]
    },
    {
      "cell_type": "code",
      "metadata": {
        "id": "XD5JruLw1wv4",
        "colab": {
          "base_uri": "https://localhost:8080/",
          "height": 187
        },
        "outputId": "cd5c22b5-020f-4a31-e2a4-b030abf88cb7"
      },
      "source": [
        "import random\n",
        "\n",
        "from random import seed \n",
        "from random import random \n",
        "\n",
        "seed(4)\n",
        "\n",
        "for i in range(10):\n",
        "  value = random()\n",
        "  print(value)\n",
        "\n",
        "  # this is the only one I found that worked and I don't fully understand these commands but I also don't have a lot of time\n",
        "\n",
        "\n",
        "\n"
      ],
      "execution_count": null,
      "outputs": [
        {
          "output_type": "stream",
          "text": [
            "0.23604808973743452\n",
            "0.1031660342307158\n",
            "0.396058242610681\n",
            "0.15497227080241027\n",
            "0.06651509567958991\n",
            "0.40159101448507484\n",
            "0.9179550430877189\n",
            "0.8004523514958085\n",
            "0.7651626025054384\n",
            "0.22192817569031764\n"
          ],
          "name": "stdout"
        }
      ]
    },
    {
      "cell_type": "markdown",
      "metadata": {
        "id": "S_-lYWqF1P3_"
      },
      "source": [
        "### 2.2 Import the Numpy library and assign it an alias \"np\". Then change the list of random numbers you generated into a Numpy array."
      ]
    },
    {
      "cell_type": "code",
      "metadata": {
        "id": "z06r0lKJl04z",
        "colab": {
          "base_uri": "https://localhost:8080/",
          "height": 34
        },
        "outputId": "861d2c21-6711-45b8-9e6e-b80fb4a1617f"
      },
      "source": [
        "import numpy as np\n",
        "\n",
        "np.array(value)\n",
        "\n",
        "# No idea what went wrong and why I only have one number and not a list "
      ],
      "execution_count": null,
      "outputs": [
        {
          "output_type": "execute_result",
          "data": {
            "text/plain": [
              "array(0.22192818)"
            ]
          },
          "metadata": {
            "tags": []
          },
          "execution_count": 64
        }
      ]
    },
    {
      "cell_type": "markdown",
      "metadata": {
        "id": "Q1E9d9Uq08U-"
      },
      "source": [
        "### 2.3 Calculate the mean of the Numpy array. (Hint: Numpy has a method for this.)\n"
      ]
    },
    {
      "cell_type": "code",
      "metadata": {
        "id": "Egm3s6S91Ann",
        "colab": {
          "base_uri": "https://localhost:8080/",
          "height": 34
        },
        "outputId": "b1d1a89d-e2eb-4183-b363-a0932523bf81"
      },
      "source": [
        "np.mean([1, 4, 7, 2, 3, 8, 10, 22, 64, 97])\n"
      ],
      "execution_count": null,
      "outputs": [
        {
          "output_type": "execute_result",
          "data": {
            "text/plain": [
              "21.8"
            ]
          },
          "metadata": {
            "tags": []
          },
          "execution_count": 67
        }
      ]
    },
    {
      "cell_type": "markdown",
      "metadata": {
        "id": "BEXzJ3DWy3MF"
      },
      "source": [
        "### Easter Egg: \n",
        "In the cell below, run the following command and see what happens :)  \n",
        "`import this`  \n"
      ]
    },
    {
      "cell_type": "code",
      "metadata": {
        "id": "M3oNCZv-zkpZ",
        "colab": {
          "base_uri": "https://localhost:8080/",
          "height": 374
        },
        "outputId": "883323f1-7ae1-477e-f571-a726174deffb"
      },
      "source": [
        "import this \n"
      ],
      "execution_count": null,
      "outputs": [
        {
          "output_type": "stream",
          "text": [
            "The Zen of Python, by Tim Peters\n",
            "\n",
            "Beautiful is better than ugly.\n",
            "Explicit is better than implicit.\n",
            "Simple is better than complex.\n",
            "Complex is better than complicated.\n",
            "Flat is better than nested.\n",
            "Sparse is better than dense.\n",
            "Readability counts.\n",
            "Special cases aren't special enough to break the rules.\n",
            "Although practicality beats purity.\n",
            "Errors should never pass silently.\n",
            "Unless explicitly silenced.\n",
            "In the face of ambiguity, refuse the temptation to guess.\n",
            "There should be one-- and preferably only one --obvious way to do it.\n",
            "Although that way may not be obvious at first unless you're Dutch.\n",
            "Now is better than never.\n",
            "Although never is often better than *right* now.\n",
            "If the implementation is hard to explain, it's a bad idea.\n",
            "If the implementation is easy to explain, it may be a good idea.\n",
            "Namespaces are one honking great idea -- let's do more of those!\n"
          ],
          "name": "stdout"
        }
      ]
    },
    {
      "cell_type": "markdown",
      "metadata": {
        "id": "qVG_ZZyfTjyB"
      },
      "source": [
        "### Submit your assignment notebook! (Make sure you've changed the name to FIRSTNAME_LASTNAME_1_2): \n",
        "\n",
        "1.  Click the Share button in the upper-right hand corner of the notebook.\n",
        "2.  Get the shareable link.\n",
        "3.  Set condition to: \"Anyone with the link can comment.\"\n",
        "4.  TBD \n",
        "\n"
      ]
    }
  ]
}