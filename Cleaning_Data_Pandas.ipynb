{
  "nbformat": 4,
  "nbformat_minor": 0,
  "metadata": {
    "colab": {
      "name": "Cleaning_Data_Pandas.ipynb",
      "provenance": [],
      "collapsed_sections": [],
      "include_colab_link": true
    },
    "kernelspec": {
      "name": "python3",
      "display_name": "Python 3"
    }
  },
  "cells": [
    {
      "cell_type": "markdown",
      "metadata": {
        "id": "view-in-github",
        "colab_type": "text"
      },
      "source": [
        "<a href=\"https://colab.research.google.com/github/kvinne-anc/Data-Science-Notebooks/blob/main/Cleaning_Data_Pandas.ipynb\" target=\"_parent\"><img src=\"https://colab.research.google.com/assets/colab-badge.svg\" alt=\"Open In Colab\"/></a>"
      ]
    },
    {
      "cell_type": "markdown",
      "metadata": {
        "id": "ZvNsvUNNlZbi"
      },
      "source": [
        "---\n",
        "# Lambda School Data Science - Intro to Pandas\n",
        "---\n",
        "# 05 - Cleaning Data\n",
        "---\n",
        "\n"
      ]
    },
    {
      "cell_type": "markdown",
      "metadata": {
        "id": "y8HUQb0OOztX"
      },
      "source": [
        "##STOP! BEFORE GOING ANY FURTHER...  \n",
        "\n",
        "\n",
        "1. Click \"File\" at the top.\n",
        "2. Then, \"Save a Copy in Drive.\"\n",
        "3. Change the file name to \"FIRSTNAME_LASTNAME_1_2\"  \n",
        "\n",
        "Now you have a copy of this notebook in your Drive account. This is the copy you'll edit and submit. Be sure to do this for ***every*** assignment!\n",
        "\n"
      ]
    },
    {
      "cell_type": "markdown",
      "metadata": {
        "id": "xMq6Of2Gt24o"
      },
      "source": [
        "### Import pandas"
      ]
    },
    {
      "cell_type": "code",
      "metadata": {
        "id": "h3r0IvHVuGJb"
      },
      "source": [
        "import pandas as pd "
      ],
      "execution_count": null,
      "outputs": []
    },
    {
      "cell_type": "markdown",
      "metadata": {
        "id": "DvYie7qokbDH"
      },
      "source": [
        "### Import the data in the CSV file\n",
        "You can find the data [here](https://raw.githubusercontent.com/axrd/datasets/master/gdpmessy2.csv). Should have a shape of (222,3). Use this [resource](https://www.iban.com/country-codes) to clean values correctly."
      ]
    },
    {
      "cell_type": "code",
      "metadata": {
        "id": "UNJo_50VktRs",
        "colab": {
          "base_uri": "https://localhost:8080/",
          "height": 419
        },
        "outputId": "2f4ea8b8-f53b-4eda-d0ff-688295d883a0"
      },
      "source": [
        "nook = pd.read_csv('https://raw.githubusercontent.com/axrd/datasets/master/gdpmessy2.csv')\n",
        "nook\n"
      ],
      "execution_count": null,
      "outputs": [
        {
          "output_type": "execute_result",
          "data": {
            "text/html": [
              "<div>\n",
              "<style scoped>\n",
              "    .dataframe tbody tr th:only-of-type {\n",
              "        vertical-align: middle;\n",
              "    }\n",
              "\n",
              "    .dataframe tbody tr th {\n",
              "        vertical-align: top;\n",
              "    }\n",
              "\n",
              "    .dataframe thead th {\n",
              "        text-align: right;\n",
              "    }\n",
              "</style>\n",
              "<table border=\"1\" class=\"dataframe\">\n",
              "  <thead>\n",
              "    <tr style=\"text-align: right;\">\n",
              "      <th></th>\n",
              "      <th>Unnamed: 0</th>\n",
              "      <th>countrys</th>\n",
              "      <th>GDP</th>\n",
              "      <th>code</th>\n",
              "    </tr>\n",
              "  </thead>\n",
              "  <tbody>\n",
              "    <tr>\n",
              "      <th>0</th>\n",
              "      <td>0</td>\n",
              "      <td>Afghanistan</td>\n",
              "      <td>21.71</td>\n",
              "      <td>AFG</td>\n",
              "    </tr>\n",
              "    <tr>\n",
              "      <th>1</th>\n",
              "      <td>1</td>\n",
              "      <td>Albania</td>\n",
              "      <td>13.40</td>\n",
              "      <td>ALB</td>\n",
              "    </tr>\n",
              "    <tr>\n",
              "      <th>2</th>\n",
              "      <td>2</td>\n",
              "      <td>Algeria</td>\n",
              "      <td>227.80</td>\n",
              "      <td>DZA</td>\n",
              "    </tr>\n",
              "    <tr>\n",
              "      <th>3</th>\n",
              "      <td>3</td>\n",
              "      <td>American Samoa</td>\n",
              "      <td>0.75</td>\n",
              "      <td>ASM</td>\n",
              "    </tr>\n",
              "    <tr>\n",
              "      <th>4</th>\n",
              "      <td>4</td>\n",
              "      <td>Andorra</td>\n",
              "      <td>4.80</td>\n",
              "      <td>AND</td>\n",
              "    </tr>\n",
              "    <tr>\n",
              "      <th>...</th>\n",
              "      <td>...</td>\n",
              "      <td>...</td>\n",
              "      <td>...</td>\n",
              "      <td>...</td>\n",
              "    </tr>\n",
              "    <tr>\n",
              "      <th>217</th>\n",
              "      <td>217</td>\n",
              "      <td>U.S. Virgin Islands</td>\n",
              "      <td>5.08</td>\n",
              "      <td>VIR</td>\n",
              "    </tr>\n",
              "    <tr>\n",
              "      <th>218</th>\n",
              "      <td>218</td>\n",
              "      <td>West Bank</td>\n",
              "      <td>6.64</td>\n",
              "      <td>WBG</td>\n",
              "    </tr>\n",
              "    <tr>\n",
              "      <th>219</th>\n",
              "      <td>219</td>\n",
              "      <td>Yemen</td>\n",
              "      <td>45.45</td>\n",
              "      <td>YEM</td>\n",
              "    </tr>\n",
              "    <tr>\n",
              "      <th>220</th>\n",
              "      <td>220</td>\n",
              "      <td>Zambia</td>\n",
              "      <td>25.61</td>\n",
              "      <td>ZMB</td>\n",
              "    </tr>\n",
              "    <tr>\n",
              "      <th>221</th>\n",
              "      <td>221</td>\n",
              "      <td>Zimbabwe</td>\n",
              "      <td>13.74</td>\n",
              "      <td>ZMB</td>\n",
              "    </tr>\n",
              "  </tbody>\n",
              "</table>\n",
              "<p>222 rows × 4 columns</p>\n",
              "</div>"
            ],
            "text/plain": [
              "     Unnamed: 0             countrys     GDP code\n",
              "0             0          Afghanistan   21.71  AFG\n",
              "1             1              Albania   13.40  ALB\n",
              "2             2              Algeria  227.80  DZA\n",
              "3             3       American Samoa    0.75  ASM\n",
              "4             4              Andorra    4.80  AND\n",
              "..          ...                  ...     ...  ...\n",
              "217         217  U.S. Virgin Islands    5.08  VIR\n",
              "218         218            West Bank    6.64  WBG\n",
              "219         219                Yemen   45.45  YEM\n",
              "220         220               Zambia   25.61  ZMB\n",
              "221         221             Zimbabwe   13.74  ZMB\n",
              "\n",
              "[222 rows x 4 columns]"
            ]
          },
          "metadata": {
            "tags": []
          },
          "execution_count": 18
        }
      ]
    },
    {
      "cell_type": "code",
      "metadata": {
        "id": "xKqq0rEsKvaf",
        "colab": {
          "base_uri": "https://localhost:8080/",
          "height": 34
        },
        "outputId": "72c5799e-5afa-416e-e2bd-99a5a53a33fb"
      },
      "source": [
        "nook.shape"
      ],
      "execution_count": null,
      "outputs": [
        {
          "output_type": "execute_result",
          "data": {
            "text/plain": [
              "(222, 4)"
            ]
          },
          "metadata": {
            "tags": []
          },
          "execution_count": 4
        }
      ]
    },
    {
      "cell_type": "code",
      "metadata": {
        "id": "aJ6gSCxbLlYB",
        "colab": {
          "base_uri": "https://localhost:8080/",
          "height": 419
        },
        "outputId": "7b8a8f03-974c-4d73-8634-3c4f96fc7497"
      },
      "source": [
        "nook = nook.drop(nook.columns[0], axis=1)\n",
        "nook \n"
      ],
      "execution_count": null,
      "outputs": [
        {
          "output_type": "execute_result",
          "data": {
            "text/html": [
              "<div>\n",
              "<style scoped>\n",
              "    .dataframe tbody tr th:only-of-type {\n",
              "        vertical-align: middle;\n",
              "    }\n",
              "\n",
              "    .dataframe tbody tr th {\n",
              "        vertical-align: top;\n",
              "    }\n",
              "\n",
              "    .dataframe thead th {\n",
              "        text-align: right;\n",
              "    }\n",
              "</style>\n",
              "<table border=\"1\" class=\"dataframe\">\n",
              "  <thead>\n",
              "    <tr style=\"text-align: right;\">\n",
              "      <th></th>\n",
              "      <th>countrys</th>\n",
              "      <th>GDP</th>\n",
              "      <th>code</th>\n",
              "    </tr>\n",
              "  </thead>\n",
              "  <tbody>\n",
              "    <tr>\n",
              "      <th>0</th>\n",
              "      <td>Afghanistan</td>\n",
              "      <td>21.71</td>\n",
              "      <td>AFG</td>\n",
              "    </tr>\n",
              "    <tr>\n",
              "      <th>1</th>\n",
              "      <td>Albania</td>\n",
              "      <td>13.40</td>\n",
              "      <td>ALB</td>\n",
              "    </tr>\n",
              "    <tr>\n",
              "      <th>2</th>\n",
              "      <td>Algeria</td>\n",
              "      <td>227.80</td>\n",
              "      <td>DZA</td>\n",
              "    </tr>\n",
              "    <tr>\n",
              "      <th>3</th>\n",
              "      <td>American Samoa</td>\n",
              "      <td>0.75</td>\n",
              "      <td>ASM</td>\n",
              "    </tr>\n",
              "    <tr>\n",
              "      <th>4</th>\n",
              "      <td>Andorra</td>\n",
              "      <td>4.80</td>\n",
              "      <td>AND</td>\n",
              "    </tr>\n",
              "    <tr>\n",
              "      <th>...</th>\n",
              "      <td>...</td>\n",
              "      <td>...</td>\n",
              "      <td>...</td>\n",
              "    </tr>\n",
              "    <tr>\n",
              "      <th>217</th>\n",
              "      <td>U.S. Virgin Islands</td>\n",
              "      <td>5.08</td>\n",
              "      <td>VIR</td>\n",
              "    </tr>\n",
              "    <tr>\n",
              "      <th>218</th>\n",
              "      <td>West Bank</td>\n",
              "      <td>6.64</td>\n",
              "      <td>WBG</td>\n",
              "    </tr>\n",
              "    <tr>\n",
              "      <th>219</th>\n",
              "      <td>Yemen</td>\n",
              "      <td>45.45</td>\n",
              "      <td>YEM</td>\n",
              "    </tr>\n",
              "    <tr>\n",
              "      <th>220</th>\n",
              "      <td>Zambia</td>\n",
              "      <td>25.61</td>\n",
              "      <td>ZMB</td>\n",
              "    </tr>\n",
              "    <tr>\n",
              "      <th>221</th>\n",
              "      <td>Zimbabwe</td>\n",
              "      <td>13.74</td>\n",
              "      <td>ZMB</td>\n",
              "    </tr>\n",
              "  </tbody>\n",
              "</table>\n",
              "<p>222 rows × 3 columns</p>\n",
              "</div>"
            ],
            "text/plain": [
              "                countrys     GDP code\n",
              "0            Afghanistan   21.71  AFG\n",
              "1                Albania   13.40  ALB\n",
              "2                Algeria  227.80  DZA\n",
              "3         American Samoa    0.75  ASM\n",
              "4                Andorra    4.80  AND\n",
              "..                   ...     ...  ...\n",
              "217  U.S. Virgin Islands    5.08  VIR\n",
              "218            West Bank    6.64  WBG\n",
              "219                Yemen   45.45  YEM\n",
              "220               Zambia   25.61  ZMB\n",
              "221             Zimbabwe   13.74  ZMB\n",
              "\n",
              "[222 rows x 3 columns]"
            ]
          },
          "metadata": {
            "tags": []
          },
          "execution_count": 19
        }
      ]
    },
    {
      "cell_type": "markdown",
      "metadata": {
        "id": "CYy4Zp5pk7tS"
      },
      "source": [
        "### Quickly inspect the head"
      ]
    },
    {
      "cell_type": "code",
      "metadata": {
        "id": "-dL5BK6CNK-x",
        "colab": {
          "base_uri": "https://localhost:8080/",
          "height": 204
        },
        "outputId": "3c768042-3ee3-4cf1-f110-7544c1ed3670"
      },
      "source": [
        "nook.head()\n"
      ],
      "execution_count": null,
      "outputs": [
        {
          "output_type": "execute_result",
          "data": {
            "text/html": [
              "<div>\n",
              "<style scoped>\n",
              "    .dataframe tbody tr th:only-of-type {\n",
              "        vertical-align: middle;\n",
              "    }\n",
              "\n",
              "    .dataframe tbody tr th {\n",
              "        vertical-align: top;\n",
              "    }\n",
              "\n",
              "    .dataframe thead th {\n",
              "        text-align: right;\n",
              "    }\n",
              "</style>\n",
              "<table border=\"1\" class=\"dataframe\">\n",
              "  <thead>\n",
              "    <tr style=\"text-align: right;\">\n",
              "      <th></th>\n",
              "      <th>countrys</th>\n",
              "      <th>GDP</th>\n",
              "      <th>code</th>\n",
              "    </tr>\n",
              "  </thead>\n",
              "  <tbody>\n",
              "    <tr>\n",
              "      <th>0</th>\n",
              "      <td>Afghanistan</td>\n",
              "      <td>21.71</td>\n",
              "      <td>AFG</td>\n",
              "    </tr>\n",
              "    <tr>\n",
              "      <th>1</th>\n",
              "      <td>Albania</td>\n",
              "      <td>13.40</td>\n",
              "      <td>ALB</td>\n",
              "    </tr>\n",
              "    <tr>\n",
              "      <th>2</th>\n",
              "      <td>Algeria</td>\n",
              "      <td>227.80</td>\n",
              "      <td>DZA</td>\n",
              "    </tr>\n",
              "    <tr>\n",
              "      <th>3</th>\n",
              "      <td>American Samoa</td>\n",
              "      <td>0.75</td>\n",
              "      <td>ASM</td>\n",
              "    </tr>\n",
              "    <tr>\n",
              "      <th>4</th>\n",
              "      <td>Andorra</td>\n",
              "      <td>4.80</td>\n",
              "      <td>AND</td>\n",
              "    </tr>\n",
              "  </tbody>\n",
              "</table>\n",
              "</div>"
            ],
            "text/plain": [
              "         countrys     GDP code\n",
              "0     Afghanistan   21.71  AFG\n",
              "1         Albania   13.40  ALB\n",
              "2         Algeria  227.80  DZA\n",
              "3  American Samoa    0.75  ASM\n",
              "4         Andorra    4.80  AND"
            ]
          },
          "metadata": {
            "tags": []
          },
          "execution_count": 20
        }
      ]
    },
    {
      "cell_type": "markdown",
      "metadata": {
        "id": "125CV0jpQ5vT"
      },
      "source": [
        "### Inspect the tail"
      ]
    },
    {
      "cell_type": "code",
      "metadata": {
        "id": "lMafok6zoGB-",
        "colab": {
          "base_uri": "https://localhost:8080/",
          "height": 204
        },
        "outputId": "d2b4defb-a670-4294-a8cf-93a2d93f42ad"
      },
      "source": [
        "nook.tail()"
      ],
      "execution_count": null,
      "outputs": [
        {
          "output_type": "execute_result",
          "data": {
            "text/html": [
              "<div>\n",
              "<style scoped>\n",
              "    .dataframe tbody tr th:only-of-type {\n",
              "        vertical-align: middle;\n",
              "    }\n",
              "\n",
              "    .dataframe tbody tr th {\n",
              "        vertical-align: top;\n",
              "    }\n",
              "\n",
              "    .dataframe thead th {\n",
              "        text-align: right;\n",
              "    }\n",
              "</style>\n",
              "<table border=\"1\" class=\"dataframe\">\n",
              "  <thead>\n",
              "    <tr style=\"text-align: right;\">\n",
              "      <th></th>\n",
              "      <th>countrys</th>\n",
              "      <th>GDP</th>\n",
              "      <th>code</th>\n",
              "    </tr>\n",
              "  </thead>\n",
              "  <tbody>\n",
              "    <tr>\n",
              "      <th>217</th>\n",
              "      <td>U.S. Virgin Islands</td>\n",
              "      <td>5.08</td>\n",
              "      <td>VIR</td>\n",
              "    </tr>\n",
              "    <tr>\n",
              "      <th>218</th>\n",
              "      <td>West Bank</td>\n",
              "      <td>6.64</td>\n",
              "      <td>WBG</td>\n",
              "    </tr>\n",
              "    <tr>\n",
              "      <th>219</th>\n",
              "      <td>Yemen</td>\n",
              "      <td>45.45</td>\n",
              "      <td>YEM</td>\n",
              "    </tr>\n",
              "    <tr>\n",
              "      <th>220</th>\n",
              "      <td>Zambia</td>\n",
              "      <td>25.61</td>\n",
              "      <td>ZMB</td>\n",
              "    </tr>\n",
              "    <tr>\n",
              "      <th>221</th>\n",
              "      <td>Zimbabwe</td>\n",
              "      <td>13.74</td>\n",
              "      <td>ZMB</td>\n",
              "    </tr>\n",
              "  </tbody>\n",
              "</table>\n",
              "</div>"
            ],
            "text/plain": [
              "                countrys    GDP code\n",
              "217  U.S. Virgin Islands   5.08  VIR\n",
              "218            West Bank   6.64  WBG\n",
              "219                Yemen  45.45  YEM\n",
              "220               Zambia  25.61  ZMB\n",
              "221             Zimbabwe  13.74  ZMB"
            ]
          },
          "metadata": {
            "tags": []
          },
          "execution_count": 21
        }
      ]
    },
    {
      "cell_type": "markdown",
      "metadata": {
        "id": "CfUYIGiuQ-o0"
      },
      "source": [
        "### What is the shape of the DataFrame? Does it correspond to what we expected? "
      ]
    },
    {
      "cell_type": "code",
      "metadata": {
        "id": "hQGGcDNYQ-_b",
        "colab": {
          "base_uri": "https://localhost:8080/",
          "height": 34
        },
        "outputId": "d76e9bc6-65e5-4695-e3d2-22033d4a907a"
      },
      "source": [
        "nook.shape"
      ],
      "execution_count": null,
      "outputs": [
        {
          "output_type": "execute_result",
          "data": {
            "text/plain": [
              "(222, 3)"
            ]
          },
          "metadata": {
            "tags": []
          },
          "execution_count": 22
        }
      ]
    },
    {
      "cell_type": "markdown",
      "metadata": {
        "id": "uq3SMoGaNVTN"
      },
      "source": [
        "# yes, it does! "
      ]
    },
    {
      "cell_type": "markdown",
      "metadata": {
        "id": "OPzmCwizHi2C"
      },
      "source": [
        "### Do you need to change the index?"
      ]
    },
    {
      "cell_type": "code",
      "metadata": {
        "id": "PnwCHiUoHjLl"
      },
      "source": [
        "# maybe? no, it doesn't look like it ... I will change the headers ... \n"
      ],
      "execution_count": null,
      "outputs": []
    },
    {
      "cell_type": "code",
      "metadata": {
        "id": "L3FO1gV4VTcw",
        "colab": {
          "base_uri": "https://localhost:8080/",
          "height": 419
        },
        "outputId": "b9fe0562-57f4-4d61-f7fd-ce43abf262e1"
      },
      "source": [
        "nook.columns = [\"COUNTRIES\", \"GDP\", \"CODE\"]  \n",
        "nook"
      ],
      "execution_count": null,
      "outputs": [
        {
          "output_type": "execute_result",
          "data": {
            "text/html": [
              "<div>\n",
              "<style scoped>\n",
              "    .dataframe tbody tr th:only-of-type {\n",
              "        vertical-align: middle;\n",
              "    }\n",
              "\n",
              "    .dataframe tbody tr th {\n",
              "        vertical-align: top;\n",
              "    }\n",
              "\n",
              "    .dataframe thead th {\n",
              "        text-align: right;\n",
              "    }\n",
              "</style>\n",
              "<table border=\"1\" class=\"dataframe\">\n",
              "  <thead>\n",
              "    <tr style=\"text-align: right;\">\n",
              "      <th></th>\n",
              "      <th>COUNTRIES</th>\n",
              "      <th>GDP</th>\n",
              "      <th>CODE</th>\n",
              "    </tr>\n",
              "  </thead>\n",
              "  <tbody>\n",
              "    <tr>\n",
              "      <th>0</th>\n",
              "      <td>Afghanistan</td>\n",
              "      <td>21.71</td>\n",
              "      <td>AFG</td>\n",
              "    </tr>\n",
              "    <tr>\n",
              "      <th>1</th>\n",
              "      <td>Albania</td>\n",
              "      <td>13.40</td>\n",
              "      <td>ALB</td>\n",
              "    </tr>\n",
              "    <tr>\n",
              "      <th>2</th>\n",
              "      <td>Algeria</td>\n",
              "      <td>227.80</td>\n",
              "      <td>DZA</td>\n",
              "    </tr>\n",
              "    <tr>\n",
              "      <th>3</th>\n",
              "      <td>American Samoa</td>\n",
              "      <td>0.75</td>\n",
              "      <td>ASM</td>\n",
              "    </tr>\n",
              "    <tr>\n",
              "      <th>4</th>\n",
              "      <td>Andorra</td>\n",
              "      <td>4.80</td>\n",
              "      <td>AND</td>\n",
              "    </tr>\n",
              "    <tr>\n",
              "      <th>...</th>\n",
              "      <td>...</td>\n",
              "      <td>...</td>\n",
              "      <td>...</td>\n",
              "    </tr>\n",
              "    <tr>\n",
              "      <th>217</th>\n",
              "      <td>U.S. Virgin Islands</td>\n",
              "      <td>5.08</td>\n",
              "      <td>VIR</td>\n",
              "    </tr>\n",
              "    <tr>\n",
              "      <th>218</th>\n",
              "      <td>West Bank</td>\n",
              "      <td>6.64</td>\n",
              "      <td>WBG</td>\n",
              "    </tr>\n",
              "    <tr>\n",
              "      <th>219</th>\n",
              "      <td>Yemen</td>\n",
              "      <td>45.45</td>\n",
              "      <td>YEM</td>\n",
              "    </tr>\n",
              "    <tr>\n",
              "      <th>220</th>\n",
              "      <td>Zambia</td>\n",
              "      <td>25.61</td>\n",
              "      <td>ZMB</td>\n",
              "    </tr>\n",
              "    <tr>\n",
              "      <th>221</th>\n",
              "      <td>Zimbabwe</td>\n",
              "      <td>13.74</td>\n",
              "      <td>ZMB</td>\n",
              "    </tr>\n",
              "  </tbody>\n",
              "</table>\n",
              "<p>222 rows × 3 columns</p>\n",
              "</div>"
            ],
            "text/plain": [
              "               COUNTRIES     GDP CODE\n",
              "0            Afghanistan   21.71  AFG\n",
              "1                Albania   13.40  ALB\n",
              "2                Algeria  227.80  DZA\n",
              "3         American Samoa    0.75  ASM\n",
              "4                Andorra    4.80  AND\n",
              "..                   ...     ...  ...\n",
              "217  U.S. Virgin Islands    5.08  VIR\n",
              "218            West Bank    6.64  WBG\n",
              "219                Yemen   45.45  YEM\n",
              "220               Zambia   25.61  ZMB\n",
              "221             Zimbabwe   13.74  ZMB\n",
              "\n",
              "[222 rows x 3 columns]"
            ]
          },
          "metadata": {
            "tags": []
          },
          "execution_count": 25
        }
      ]
    },
    {
      "cell_type": "markdown",
      "metadata": {
        "id": "7ecnTkAIQ_MW"
      },
      "source": [
        "### Missing values?\n",
        "Find all the missing values and correct them. "
      ]
    },
    {
      "cell_type": "code",
      "metadata": {
        "id": "_1U2esBGQ_XF",
        "colab": {
          "base_uri": "https://localhost:8080/",
          "height": 153
        },
        "outputId": "34ff4233-7d93-483f-f23e-1f755ed8b60a"
      },
      "source": [
        "nook.info()\n"
      ],
      "execution_count": null,
      "outputs": [
        {
          "output_type": "stream",
          "text": [
            "<class 'pandas.core.frame.DataFrame'>\n",
            "RangeIndex: 222 entries, 0 to 221\n",
            "Data columns (total 3 columns):\n",
            "COUNTRIES    218 non-null object\n",
            "GDP          219 non-null float64\n",
            "CODE         217 non-null object\n",
            "dtypes: float64(1), object(2)\n",
            "memory usage: 5.3+ KB\n"
          ],
          "name": "stdout"
        }
      ]
    },
    {
      "cell_type": "code",
      "metadata": {
        "id": "KsjvOTizFoam",
        "colab": {
          "base_uri": "https://localhost:8080/",
          "height": 85
        },
        "outputId": "5c19cb5d-cf76-4d78-d2c8-910bbf5c50e0"
      },
      "source": [
        "nook.isnull().sum() \n"
      ],
      "execution_count": null,
      "outputs": [
        {
          "output_type": "execute_result",
          "data": {
            "text/plain": [
              "COUNTRIES    4\n",
              "GDP          3\n",
              "CODE         5\n",
              "dtype: int64"
            ]
          },
          "metadata": {
            "tags": []
          },
          "execution_count": 28
        }
      ]
    },
    {
      "cell_type": "code",
      "metadata": {
        "id": "25xPIbf4Foja",
        "colab": {
          "base_uri": "https://localhost:8080/",
          "height": 421
        },
        "outputId": "fe7d9110-fdd9-465c-95df-f445473bbc7a"
      },
      "source": [
        "nook[nook.isnull().any(axis=1)] "
      ],
      "execution_count": null,
      "outputs": [
        {
          "output_type": "execute_result",
          "data": {
            "text/html": [
              "<div>\n",
              "<style scoped>\n",
              "    .dataframe tbody tr th:only-of-type {\n",
              "        vertical-align: middle;\n",
              "    }\n",
              "\n",
              "    .dataframe tbody tr th {\n",
              "        vertical-align: top;\n",
              "    }\n",
              "\n",
              "    .dataframe thead th {\n",
              "        text-align: right;\n",
              "    }\n",
              "</style>\n",
              "<table border=\"1\" class=\"dataframe\">\n",
              "  <thead>\n",
              "    <tr style=\"text-align: right;\">\n",
              "      <th></th>\n",
              "      <th>COUNTRIES</th>\n",
              "      <th>GDP</th>\n",
              "      <th>CODE</th>\n",
              "    </tr>\n",
              "  </thead>\n",
              "  <tbody>\n",
              "    <tr>\n",
              "      <th>6</th>\n",
              "      <td>NaN</td>\n",
              "      <td>0.18</td>\n",
              "      <td>AIA</td>\n",
              "    </tr>\n",
              "    <tr>\n",
              "      <th>14</th>\n",
              "      <td>Bahamas, The</td>\n",
              "      <td>8.65</td>\n",
              "      <td>NaN</td>\n",
              "    </tr>\n",
              "    <tr>\n",
              "      <th>16</th>\n",
              "      <td>Bangladesh</td>\n",
              "      <td>NaN</td>\n",
              "      <td>BGD</td>\n",
              "    </tr>\n",
              "    <tr>\n",
              "      <th>20</th>\n",
              "      <td>NaN</td>\n",
              "      <td>1.67</td>\n",
              "      <td>BLZ</td>\n",
              "    </tr>\n",
              "    <tr>\n",
              "      <th>55</th>\n",
              "      <td>Denmark</td>\n",
              "      <td>347.20</td>\n",
              "      <td>NaN</td>\n",
              "    </tr>\n",
              "    <tr>\n",
              "      <th>70</th>\n",
              "      <td>France</td>\n",
              "      <td>NaN</td>\n",
              "      <td>FRA</td>\n",
              "    </tr>\n",
              "    <tr>\n",
              "      <th>90</th>\n",
              "      <td>Hungary</td>\n",
              "      <td>129.70</td>\n",
              "      <td>NaN</td>\n",
              "    </tr>\n",
              "    <tr>\n",
              "      <th>96</th>\n",
              "      <td>Ireland</td>\n",
              "      <td>NaN</td>\n",
              "      <td>IRL</td>\n",
              "    </tr>\n",
              "    <tr>\n",
              "      <th>100</th>\n",
              "      <td>Jamaica</td>\n",
              "      <td>13.92</td>\n",
              "      <td>NaN</td>\n",
              "    </tr>\n",
              "    <tr>\n",
              "      <th>106</th>\n",
              "      <td>NaN</td>\n",
              "      <td>0.16</td>\n",
              "      <td>KIR</td>\n",
              "    </tr>\n",
              "    <tr>\n",
              "      <th>200</th>\n",
              "      <td>Togo</td>\n",
              "      <td>4.84</td>\n",
              "      <td>NaN</td>\n",
              "    </tr>\n",
              "    <tr>\n",
              "      <th>206</th>\n",
              "      <td>NaN</td>\n",
              "      <td>0.04</td>\n",
              "      <td>TUV</td>\n",
              "    </tr>\n",
              "  </tbody>\n",
              "</table>\n",
              "</div>"
            ],
            "text/plain": [
              "        COUNTRIES     GDP CODE\n",
              "6             NaN    0.18  AIA\n",
              "14   Bahamas, The    8.65  NaN\n",
              "16     Bangladesh     NaN  BGD\n",
              "20            NaN    1.67  BLZ\n",
              "55        Denmark  347.20  NaN\n",
              "70         France     NaN  FRA\n",
              "90        Hungary  129.70  NaN\n",
              "96        Ireland     NaN  IRL\n",
              "100       Jamaica   13.92  NaN\n",
              "106           NaN    0.16  KIR\n",
              "200          Togo    4.84  NaN\n",
              "206           NaN    0.04  TUV"
            ]
          },
          "metadata": {
            "tags": []
          },
          "execution_count": 29
        }
      ]
    },
    {
      "cell_type": "code",
      "metadata": {
        "id": "8A2A-VJla_MK"
      },
      "source": [
        "nook.at[6,'COUNTRIES'] = \"Anguilla\" \n",
        "nook.at[14,'CODE'] = \"BHS\"\n",
        "nook.at[16,'GDP'] = 286.0\n",
        "nook.at[20,'COUNTRIES'] = \"Belize\"\n",
        "nook.at[55,'CODE'] = \"DNK\"\n",
        "nook.at[70,'GDP'] = 2890.0\n",
        "nook.at[90,'CODE'] = \"HUN\"\n",
        "nook.at[96,'GDP'] = 381.3\n",
        "nook.at[100,'CODE'] = \"JAM\"\n",
        "nook.at[106,'COUNTRIES'] = \"Kiribati\" \n",
        "nook.at[200,'CODE'] = \"TGO\"\n",
        "nook.at[206,'COUNTRIES'] = \"Tuvalu\"\n"
      ],
      "execution_count": null,
      "outputs": []
    },
    {
      "cell_type": "code",
      "metadata": {
        "id": "mt98Xv0Nc95i",
        "colab": {
          "base_uri": "https://localhost:8080/",
          "height": 85
        },
        "outputId": "4034ec32-e5df-4f87-8d84-25c252734fc7"
      },
      "source": [
        "nook.isnull().sum()\n"
      ],
      "execution_count": null,
      "outputs": [
        {
          "output_type": "execute_result",
          "data": {
            "text/plain": [
              "COUNTRIES    0\n",
              "GDP          0\n",
              "CODE         0\n",
              "dtype: int64"
            ]
          },
          "metadata": {
            "tags": []
          },
          "execution_count": 31
        }
      ]
    },
    {
      "cell_type": "code",
      "metadata": {
        "id": "0TLUED28dNKG",
        "colab": {
          "base_uri": "https://localhost:8080/",
          "height": 204
        },
        "outputId": "19a353b4-fd06-45db-fff0-32edab886ff3"
      },
      "source": [
        "nook.head()\n"
      ],
      "execution_count": null,
      "outputs": [
        {
          "output_type": "execute_result",
          "data": {
            "text/html": [
              "<div>\n",
              "<style scoped>\n",
              "    .dataframe tbody tr th:only-of-type {\n",
              "        vertical-align: middle;\n",
              "    }\n",
              "\n",
              "    .dataframe tbody tr th {\n",
              "        vertical-align: top;\n",
              "    }\n",
              "\n",
              "    .dataframe thead th {\n",
              "        text-align: right;\n",
              "    }\n",
              "</style>\n",
              "<table border=\"1\" class=\"dataframe\">\n",
              "  <thead>\n",
              "    <tr style=\"text-align: right;\">\n",
              "      <th></th>\n",
              "      <th>COUNTRIES</th>\n",
              "      <th>GDP</th>\n",
              "      <th>CODE</th>\n",
              "    </tr>\n",
              "  </thead>\n",
              "  <tbody>\n",
              "    <tr>\n",
              "      <th>0</th>\n",
              "      <td>Afghanistan</td>\n",
              "      <td>21.71</td>\n",
              "      <td>AFG</td>\n",
              "    </tr>\n",
              "    <tr>\n",
              "      <th>1</th>\n",
              "      <td>Albania</td>\n",
              "      <td>13.40</td>\n",
              "      <td>ALB</td>\n",
              "    </tr>\n",
              "    <tr>\n",
              "      <th>2</th>\n",
              "      <td>Algeria</td>\n",
              "      <td>227.80</td>\n",
              "      <td>DZA</td>\n",
              "    </tr>\n",
              "    <tr>\n",
              "      <th>3</th>\n",
              "      <td>American Samoa</td>\n",
              "      <td>0.75</td>\n",
              "      <td>ASM</td>\n",
              "    </tr>\n",
              "    <tr>\n",
              "      <th>4</th>\n",
              "      <td>Andorra</td>\n",
              "      <td>4.80</td>\n",
              "      <td>AND</td>\n",
              "    </tr>\n",
              "  </tbody>\n",
              "</table>\n",
              "</div>"
            ],
            "text/plain": [
              "        COUNTRIES     GDP CODE\n",
              "0     Afghanistan   21.71  AFG\n",
              "1         Albania   13.40  ALB\n",
              "2         Algeria  227.80  DZA\n",
              "3  American Samoa    0.75  ASM\n",
              "4         Andorra    4.80  AND"
            ]
          },
          "metadata": {
            "tags": []
          },
          "execution_count": 32
        }
      ]
    },
    {
      "cell_type": "code",
      "metadata": {
        "id": "Eyz_NsszdVOr",
        "colab": {
          "base_uri": "https://localhost:8080/",
          "height": 119
        },
        "outputId": "5471f673-8250-45a4-81aa-540d5f5320d4"
      },
      "source": [
        "nook['COUNTRIES'].value_counts(sort=True).tail()\n"
      ],
      "execution_count": null,
      "outputs": [
        {
          "output_type": "execute_result",
          "data": {
            "text/plain": [
              "Paraguay             1\n",
              "Colombia             1\n",
              "France               1\n",
              "Jamaica              1\n",
              "Equatorial Guinea    1\n",
              "Name: COUNTRIES, dtype: int64"
            ]
          },
          "metadata": {
            "tags": []
          },
          "execution_count": 35
        }
      ]
    },
    {
      "cell_type": "markdown",
      "metadata": {
        "id": "kYEmSPGtYQeW"
      },
      "source": [
        ""
      ]
    },
    {
      "cell_type": "markdown",
      "metadata": {
        "id": "p52saiQGbeMq"
      },
      "source": [
        "### Find duplicate values  \n",
        "Clean where necessary:  \n",
        "*   France has a GDP of 2902.0 billion.\n",
        "*   Ireland has a GDP of 245.80 billion.\n",
        "*   Bangladesh has a GDP of 186.60 billion."
      ]
    },
    {
      "cell_type": "code",
      "metadata": {
        "id": "5cWuMltDbkCX",
        "colab": {
          "base_uri": "https://localhost:8080/",
          "height": 119
        },
        "outputId": "b3862e1c-a5f3-459d-c8c2-ca657ba9d0a9"
      },
      "source": [
        "nook['GDP'].value_counts(sort=True).head()\n"
      ],
      "execution_count": null,
      "outputs": [
        {
          "output_type": "execute_result",
          "data": {
            "text/plain": [
              "0.18      3\n",
              "0.75      2\n",
              "0.16      2\n",
              "341.20    1\n",
              "529.50    1\n",
              "Name: GDP, dtype: int64"
            ]
          },
          "metadata": {
            "tags": []
          },
          "execution_count": 36
        }
      ]
    },
    {
      "cell_type": "code",
      "metadata": {
        "id": "DU7UG2yYFpD9",
        "colab": {
          "base_uri": "https://localhost:8080/",
          "height": 119
        },
        "outputId": "99c67a26-be7a-411b-cea9-3a95d62b5e95"
      },
      "source": [
        "nook['CODE'].value_counts(sort=True).head()\n"
      ],
      "execution_count": null,
      "outputs": [
        {
          "output_type": "execute_result",
          "data": {
            "text/plain": [
              "ZMB    2\n",
              "ARG    2\n",
              "CIV    1\n",
              "ARM    1\n",
              "ASM    1\n",
              "Name: CODE, dtype: int64"
            ]
          },
          "metadata": {
            "tags": []
          },
          "execution_count": 38
        }
      ]
    },
    {
      "cell_type": "code",
      "metadata": {
        "id": "eb_fG4JzFpJu",
        "colab": {
          "base_uri": "https://localhost:8080/",
          "height": 111
        },
        "outputId": "bd9a6f2b-fa13-43ee-ef71-c55951371745"
      },
      "source": [
        "nook[nook['CODE'] == \"ARG\"] "
      ],
      "execution_count": null,
      "outputs": [
        {
          "output_type": "execute_result",
          "data": {
            "text/html": [
              "<div>\n",
              "<style scoped>\n",
              "    .dataframe tbody tr th:only-of-type {\n",
              "        vertical-align: middle;\n",
              "    }\n",
              "\n",
              "    .dataframe tbody tr th {\n",
              "        vertical-align: top;\n",
              "    }\n",
              "\n",
              "    .dataframe thead th {\n",
              "        text-align: right;\n",
              "    }\n",
              "</style>\n",
              "<table border=\"1\" class=\"dataframe\">\n",
              "  <thead>\n",
              "    <tr style=\"text-align: right;\">\n",
              "      <th></th>\n",
              "      <th>COUNTRIES</th>\n",
              "      <th>GDP</th>\n",
              "      <th>CODE</th>\n",
              "    </tr>\n",
              "  </thead>\n",
              "  <tbody>\n",
              "    <tr>\n",
              "      <th>8</th>\n",
              "      <td>Argentina</td>\n",
              "      <td>536.2</td>\n",
              "      <td>ARG</td>\n",
              "    </tr>\n",
              "    <tr>\n",
              "      <th>209</th>\n",
              "      <td>United Arab Emirates</td>\n",
              "      <td>416.4</td>\n",
              "      <td>ARG</td>\n",
              "    </tr>\n",
              "  </tbody>\n",
              "</table>\n",
              "</div>"
            ],
            "text/plain": [
              "                COUNTRIES    GDP CODE\n",
              "8               Argentina  536.2  ARG\n",
              "209  United Arab Emirates  416.4  ARG"
            ]
          },
          "metadata": {
            "tags": []
          },
          "execution_count": 39
        }
      ]
    },
    {
      "cell_type": "code",
      "metadata": {
        "id": "9mJPFdcygIUH"
      },
      "source": [
        "nook.at[209,'CODE'] = \"UAE\""
      ],
      "execution_count": null,
      "outputs": []
    },
    {
      "cell_type": "code",
      "metadata": {
        "id": "SCBq0xl2gaDl",
        "colab": {
          "base_uri": "https://localhost:8080/",
          "height": 111
        },
        "outputId": "98e35e55-92da-4820-e73c-45147e0cbbe5"
      },
      "source": [
        "nook[nook['CODE'] == \"ZMB\"] "
      ],
      "execution_count": null,
      "outputs": [
        {
          "output_type": "execute_result",
          "data": {
            "text/html": [
              "<div>\n",
              "<style scoped>\n",
              "    .dataframe tbody tr th:only-of-type {\n",
              "        vertical-align: middle;\n",
              "    }\n",
              "\n",
              "    .dataframe tbody tr th {\n",
              "        vertical-align: top;\n",
              "    }\n",
              "\n",
              "    .dataframe thead th {\n",
              "        text-align: right;\n",
              "    }\n",
              "</style>\n",
              "<table border=\"1\" class=\"dataframe\">\n",
              "  <thead>\n",
              "    <tr style=\"text-align: right;\">\n",
              "      <th></th>\n",
              "      <th>COUNTRIES</th>\n",
              "      <th>GDP</th>\n",
              "      <th>CODE</th>\n",
              "    </tr>\n",
              "  </thead>\n",
              "  <tbody>\n",
              "    <tr>\n",
              "      <th>220</th>\n",
              "      <td>Zambia</td>\n",
              "      <td>25.61</td>\n",
              "      <td>ZMB</td>\n",
              "    </tr>\n",
              "    <tr>\n",
              "      <th>221</th>\n",
              "      <td>Zimbabwe</td>\n",
              "      <td>13.74</td>\n",
              "      <td>ZMB</td>\n",
              "    </tr>\n",
              "  </tbody>\n",
              "</table>\n",
              "</div>"
            ],
            "text/plain": [
              "    COUNTRIES    GDP CODE\n",
              "220    Zambia  25.61  ZMB\n",
              "221  Zimbabwe  13.74  ZMB"
            ]
          },
          "metadata": {
            "tags": []
          },
          "execution_count": 41
        }
      ]
    },
    {
      "cell_type": "code",
      "metadata": {
        "id": "ILX9VZDigzAc"
      },
      "source": [
        "nook.at[221,'CODE'] = \"ZWE\" "
      ],
      "execution_count": null,
      "outputs": []
    },
    {
      "cell_type": "markdown",
      "metadata": {
        "id": "Y7arWL1sblgY"
      },
      "source": [
        "### Verify the change persisted!"
      ]
    },
    {
      "cell_type": "code",
      "metadata": {
        "id": "6NOSNRuYboO1",
        "colab": {
          "base_uri": "https://localhost:8080/",
          "height": 119
        },
        "outputId": "9b200106-308d-4159-ba2e-b34d08bd2f7f"
      },
      "source": [
        "nook['CODE'].value_counts(sort=True).head()\n"
      ],
      "execution_count": null,
      "outputs": [
        {
          "output_type": "execute_result",
          "data": {
            "text/plain": [
              "CIV    1\n",
              "GEO    1\n",
              "LIE    1\n",
              "BRN    1\n",
              "BHR    1\n",
              "Name: CODE, dtype: int64"
            ]
          },
          "metadata": {
            "tags": []
          },
          "execution_count": 45
        }
      ]
    },
    {
      "cell_type": "markdown",
      "metadata": {
        "id": "D3B3Z8GvcY4Q"
      },
      "source": [
        "### Submit your assignment notebook! (Make sure you've changed the name to FIRSTNAME_LASTNAME_1_2): \n",
        "\n",
        "1.  Click the Share button in the upper-right hand corner of the notebook.\n",
        "2.  Get the shareable link.\n",
        "3.  Set condition to: \"Anyone with the link can comment.\"\n",
        "4.  TBD \n",
        "\n",
        "\n",
        "---\n"
      ]
    },
    {
      "cell_type": "code",
      "metadata": {
        "id": "_uZuJWp-yOmn"
      },
      "source": [
        ""
      ],
      "execution_count": null,
      "outputs": []
    }
  ]
}