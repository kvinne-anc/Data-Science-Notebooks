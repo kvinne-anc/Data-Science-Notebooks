{
  "nbformat": 4,
  "nbformat_minor": 0,
  "metadata": {
    "colab": {
      "name": "FeatureExtraction_JobsDataset.ipynb",
      "provenance": [],
      "collapsed_sections": [],
      "authorship_tag": "ABX9TyOQjhz4Uq3IWvP4j1oScIBG",
      "include_colab_link": true
    },
    "kernelspec": {
      "name": "python3",
      "display_name": "Python 3"
    }
  },
  "cells": [
    {
      "cell_type": "markdown",
      "metadata": {
        "id": "view-in-github",
        "colab_type": "text"
      },
      "source": [
        "<a href=\"https://colab.research.google.com/github/kvinne-anc/Data-Science-Notebooks/blob/main/FeatureExtraction_JobsDataset.ipynb\" target=\"_parent\"><img src=\"https://colab.research.google.com/assets/colab-badge.svg\" alt=\"Open In Colab\"/></a>"
      ]
    },
    {
      "cell_type": "code",
      "metadata": {
        "id": "NEHm_Y-sXtEw"
      },
      "source": [
        "\n",
        "import re as re\n",
        "import string\n",
        "import bs4\n",
        "import time\n",
        "\n",
        "from sklearn.feature_extraction.text import CountVectorizer, TfidfVectorizer\n",
        "import matplotlib.pyplot as plt\n",
        "import pandas as pd\n",
        "import numpy as np\n",
        "import spacy\n",
        "\n",
        "from bs4 import BeautifulSoup"
      ],
      "execution_count": null,
      "outputs": []
    },
    {
      "cell_type": "code",
      "metadata": {
        "id": "lBomp_CbYKIL"
      },
      "source": [
        "import requests"
      ],
      "execution_count": null,
      "outputs": []
    },
    {
      "cell_type": "code",
      "metadata": {
        "id": "F1_Haul1YLUu",
        "colab": {
          "base_uri": "https://localhost:8080/",
          "height": 467
        },
        "outputId": "756e1a88-db27-4c60-8230-e2ba0564c939"
      },
      "source": [
        "job = pd.read_csv('/content/job_listings.csv')\n",
        "job"
      ],
      "execution_count": null,
      "outputs": [
        {
          "output_type": "execute_result",
          "data": {
            "text/html": [
              "<div>\n",
              "<style scoped>\n",
              "    .dataframe tbody tr th:only-of-type {\n",
              "        vertical-align: middle;\n",
              "    }\n",
              "\n",
              "    .dataframe tbody tr th {\n",
              "        vertical-align: top;\n",
              "    }\n",
              "\n",
              "    .dataframe thead th {\n",
              "        text-align: right;\n",
              "    }\n",
              "</style>\n",
              "<table border=\"1\" class=\"dataframe\">\n",
              "  <thead>\n",
              "    <tr style=\"text-align: right;\">\n",
              "      <th></th>\n",
              "      <th>Unnamed: 0</th>\n",
              "      <th>description</th>\n",
              "      <th>title</th>\n",
              "    </tr>\n",
              "  </thead>\n",
              "  <tbody>\n",
              "    <tr>\n",
              "      <th>0</th>\n",
              "      <td>0</td>\n",
              "      <td>b\"&lt;div&gt;&lt;div&gt;Job Requirements:&lt;/div&gt;&lt;ul&gt;&lt;li&gt;&lt;p&gt;...</td>\n",
              "      <td>Data scientist</td>\n",
              "    </tr>\n",
              "    <tr>\n",
              "      <th>1</th>\n",
              "      <td>1</td>\n",
              "      <td>b'&lt;div&gt;Job Description&lt;br/&gt;\\n&lt;br/&gt;\\n&lt;p&gt;As a Da...</td>\n",
              "      <td>Data Scientist I</td>\n",
              "    </tr>\n",
              "    <tr>\n",
              "      <th>2</th>\n",
              "      <td>2</td>\n",
              "      <td>b'&lt;div&gt;&lt;p&gt;As a Data Scientist you will be work...</td>\n",
              "      <td>Data Scientist - Entry Level</td>\n",
              "    </tr>\n",
              "    <tr>\n",
              "      <th>3</th>\n",
              "      <td>3</td>\n",
              "      <td>b'&lt;div class=\"jobsearch-JobMetadataHeader icl-...</td>\n",
              "      <td>Data Scientist</td>\n",
              "    </tr>\n",
              "    <tr>\n",
              "      <th>4</th>\n",
              "      <td>4</td>\n",
              "      <td>b'&lt;ul&gt;&lt;li&gt;Location: USA \\xe2\\x80\\x93 multiple ...</td>\n",
              "      <td>Data Scientist</td>\n",
              "    </tr>\n",
              "    <tr>\n",
              "      <th>...</th>\n",
              "      <td>...</td>\n",
              "      <td>...</td>\n",
              "      <td>...</td>\n",
              "    </tr>\n",
              "    <tr>\n",
              "      <th>421</th>\n",
              "      <td>421</td>\n",
              "      <td>b\"&lt;b&gt;About Us:&lt;/b&gt;&lt;br/&gt;\\nWant to be part of a ...</td>\n",
              "      <td>Senior Data Science Engineer</td>\n",
              "    </tr>\n",
              "    <tr>\n",
              "      <th>422</th>\n",
              "      <td>422</td>\n",
              "      <td>b'&lt;div class=\"jobsearch-JobMetadataHeader icl-...</td>\n",
              "      <td>2019 PhD Data Scientist Internship - Forecasti...</td>\n",
              "    </tr>\n",
              "    <tr>\n",
              "      <th>423</th>\n",
              "      <td>423</td>\n",
              "      <td>b'&lt;div class=\"jobsearch-JobMetadataHeader icl-...</td>\n",
              "      <td>Data Scientist - Insurance</td>\n",
              "    </tr>\n",
              "    <tr>\n",
              "      <th>424</th>\n",
              "      <td>424</td>\n",
              "      <td>b\"&lt;p&gt;&lt;/p&gt;&lt;div&gt;&lt;p&gt;SENIOR DATA SCIENTIST&lt;/p&gt;&lt;p&gt;\\...</td>\n",
              "      <td>Senior Data Scientist</td>\n",
              "    </tr>\n",
              "    <tr>\n",
              "      <th>425</th>\n",
              "      <td>425</td>\n",
              "      <td>b'&lt;div&gt;&lt;/div&gt;&lt;div&gt;&lt;div&gt;&lt;div&gt;&lt;div&gt;&lt;p&gt;Cerner Int...</td>\n",
              "      <td>Data Scientist</td>\n",
              "    </tr>\n",
              "  </tbody>\n",
              "</table>\n",
              "<p>426 rows × 3 columns</p>\n",
              "</div>"
            ],
            "text/plain": [
              "     Unnamed: 0  ...                                              title\n",
              "0             0  ...                                    Data scientist \n",
              "1             1  ...                                   Data Scientist I\n",
              "2             2  ...                       Data Scientist - Entry Level\n",
              "3             3  ...                                     Data Scientist\n",
              "4             4  ...                                     Data Scientist\n",
              "..          ...  ...                                                ...\n",
              "421         421  ...                       Senior Data Science Engineer\n",
              "422         422  ...  2019 PhD Data Scientist Internship - Forecasti...\n",
              "423         423  ...                         Data Scientist - Insurance\n",
              "424         424  ...                              Senior Data Scientist\n",
              "425         425  ...                                     Data Scientist\n",
              "\n",
              "[426 rows x 3 columns]"
            ]
          },
          "metadata": {
            "tags": []
          },
          "execution_count": 20
        }
      ]
    },
    {
      "cell_type": "code",
      "metadata": {
        "colab": {
          "base_uri": "https://localhost:8080/"
        },
        "id": "1mLsYZ8cqu4q",
        "outputId": "8e4eaf4d-b413-4f9f-b801-8eb137cce1d5"
      },
      "source": [
        "print(job)\n",
        "def remove_tags(string):\n",
        "    result = re.sub('<.*?>','',string)\n",
        "    return result\n",
        "job['with_out_tags']=job['description'].apply(lambda cw : remove_tags(cw))\n",
        "print(\"\\nSentences without tags':\")\n",
        "print(job)"
      ],
      "execution_count": null,
      "outputs": [
        {
          "output_type": "stream",
          "text": [
            "     Unnamed: 0  ...                                      with_out_tags\n",
            "0             0  ...  b\"<div><div>Job Requirements:</div><ul><li><p>...\n",
            "1             1  ...  b'<div>Job Description<br/>\\n<br/>\\n<p>As a Da...\n",
            "2             2  ...  b'<div><p>As a Data Scientist you will be work...\n",
            "3             3  ...  b'<div class=\"jobsearch-JobMetadataHeader icl-...\n",
            "4             4  ...  b'<ul><li>Location: USA \\xe2\\x80\\x93 multiple ...\n",
            "..          ...  ...                                                ...\n",
            "421         421  ...  b\"<b>About Us:</b><br/>\\nWant to be part of a ...\n",
            "422         422  ...  b'<div class=\"jobsearch-JobMetadataHeader icl-...\n",
            "423         423  ...  b'<div class=\"jobsearch-JobMetadataHeader icl-...\n",
            "424         424  ...  b\"<p></p><div><p>SENIOR DATA SCIENTIST</p><p>\\...\n",
            "425         425  ...  b'<div></div><div><div><div><div><p>Cerner Int...\n",
            "\n",
            "[426 rows x 4 columns]\n",
            "\n",
            "Sentences without tags':\n",
            "     Unnamed: 0  ...                                      with_out_tags\n",
            "0             0  ...  b\"Job Requirements:\\nConceptual understanding ...\n",
            "1             1  ...  b'Job Description\\n\\nAs a Data Scientist 1, yo...\n",
            "2             2  ...  b'As a Data Scientist you will be working on c...\n",
            "3             3  ...  b'$4,969 - $6,756 a monthContractUnder the gen...\n",
            "4             4  ...  b'Location: USA \\xe2\\x80\\x93 multiple location...\n",
            "..          ...  ...                                                ...\n",
            "421         421  ...  b\"About Us:\\nWant to be part of a fantastic an...\n",
            "422         422  ...  b'InternshipAt Uber, we ignite opportunity by ...\n",
            "423         423  ...  b'$200,000 - $350,000 a yearA million people a...\n",
            "424         424  ...  b\"SENIOR DATA SCIENTIST\\nJOB DESCRIPTION\\n\\nAB...\n",
            "425         425  ...  b'Cerner Intelligence is a new, innovative org...\n",
            "\n",
            "[426 rows x 4 columns]\n"
          ],
          "name": "stdout"
        }
      ]
    },
    {
      "cell_type": "code",
      "metadata": {
        "colab": {
          "base_uri": "https://localhost:8080/",
          "height": 312
        },
        "id": "rUfGWhd1btcT",
        "outputId": "43a2af6e-e67d-40bd-afce-34c9a3eac0bc"
      },
      "source": [
        "job.head()"
      ],
      "execution_count": null,
      "outputs": [
        {
          "output_type": "execute_result",
          "data": {
            "text/html": [
              "<div>\n",
              "<style scoped>\n",
              "    .dataframe tbody tr th:only-of-type {\n",
              "        vertical-align: middle;\n",
              "    }\n",
              "\n",
              "    .dataframe tbody tr th {\n",
              "        vertical-align: top;\n",
              "    }\n",
              "\n",
              "    .dataframe thead th {\n",
              "        text-align: right;\n",
              "    }\n",
              "</style>\n",
              "<table border=\"1\" class=\"dataframe\">\n",
              "  <thead>\n",
              "    <tr style=\"text-align: right;\">\n",
              "      <th></th>\n",
              "      <th>Unnamed: 0</th>\n",
              "      <th>description</th>\n",
              "      <th>title</th>\n",
              "      <th>with_out_tags</th>\n",
              "    </tr>\n",
              "  </thead>\n",
              "  <tbody>\n",
              "    <tr>\n",
              "      <th>0</th>\n",
              "      <td>0</td>\n",
              "      <td>b\"&lt;div&gt;&lt;div&gt;Job Requirements:&lt;/div&gt;&lt;ul&gt;&lt;li&gt;&lt;p&gt;...</td>\n",
              "      <td>Data scientist</td>\n",
              "      <td>b\"Job Requirements:\\nConceptual understanding ...</td>\n",
              "    </tr>\n",
              "    <tr>\n",
              "      <th>1</th>\n",
              "      <td>1</td>\n",
              "      <td>b'&lt;div&gt;Job Description&lt;br/&gt;\\n&lt;br/&gt;\\n&lt;p&gt;As a Da...</td>\n",
              "      <td>Data Scientist I</td>\n",
              "      <td>b'Job Description\\n\\nAs a Data Scientist 1, yo...</td>\n",
              "    </tr>\n",
              "    <tr>\n",
              "      <th>2</th>\n",
              "      <td>2</td>\n",
              "      <td>b'&lt;div&gt;&lt;p&gt;As a Data Scientist you will be work...</td>\n",
              "      <td>Data Scientist - Entry Level</td>\n",
              "      <td>b'As a Data Scientist you will be working on c...</td>\n",
              "    </tr>\n",
              "    <tr>\n",
              "      <th>3</th>\n",
              "      <td>3</td>\n",
              "      <td>b'&lt;div class=\"jobsearch-JobMetadataHeader icl-...</td>\n",
              "      <td>Data Scientist</td>\n",
              "      <td>b'$4,969 - $6,756 a monthContractUnder the gen...</td>\n",
              "    </tr>\n",
              "    <tr>\n",
              "      <th>4</th>\n",
              "      <td>4</td>\n",
              "      <td>b'&lt;ul&gt;&lt;li&gt;Location: USA \\xe2\\x80\\x93 multiple ...</td>\n",
              "      <td>Data Scientist</td>\n",
              "      <td>b'Location: USA \\xe2\\x80\\x93 multiple location...</td>\n",
              "    </tr>\n",
              "  </tbody>\n",
              "</table>\n",
              "</div>"
            ],
            "text/plain": [
              "   Unnamed: 0  ...                                      with_out_tags\n",
              "0           0  ...  b\"Job Requirements:\\nConceptual understanding ...\n",
              "1           1  ...  b'Job Description\\n\\nAs a Data Scientist 1, yo...\n",
              "2           2  ...  b'As a Data Scientist you will be working on c...\n",
              "3           3  ...  b'$4,969 - $6,756 a monthContractUnder the gen...\n",
              "4           4  ...  b'Location: USA \\xe2\\x80\\x93 multiple location...\n",
              "\n",
              "[5 rows x 4 columns]"
            ]
          },
          "metadata": {
            "tags": []
          },
          "execution_count": 27
        }
      ]
    },
    {
      "cell_type": "code",
      "metadata": {
        "id": "eYGRYhtPqfdE"
      },
      "source": [
        ""
      ],
      "execution_count": null,
      "outputs": []
    },
    {
      "cell_type": "code",
      "metadata": {
        "id": "bjp7VProYLXm"
      },
      "source": [
        ""
      ],
      "execution_count": null,
      "outputs": []
    },
    {
      "cell_type": "code",
      "metadata": {
        "id": "YtUxNXxjYLae"
      },
      "source": [
        ""
      ],
      "execution_count": null,
      "outputs": []
    },
    {
      "cell_type": "code",
      "metadata": {
        "id": "RJyxzdgnYLd6"
      },
      "source": [
        ""
      ],
      "execution_count": null,
      "outputs": []
    }
  ]
}