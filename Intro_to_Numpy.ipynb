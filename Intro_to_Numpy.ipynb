{
  "nbformat": 4,
  "nbformat_minor": 0,
  "metadata": {
    "colab": {
      "name": "Intro_to_Numpy.ipynb",
      "provenance": [],
      "collapsed_sections": [],
      "include_colab_link": true
    },
    "kernelspec": {
      "name": "python3",
      "display_name": "Python 3"
    }
  },
  "cells": [
    {
      "cell_type": "markdown",
      "metadata": {
        "id": "view-in-github",
        "colab_type": "text"
      },
      "source": [
        "<a href=\"https://colab.research.google.com/github/kvinne-anc/Data-Science-Notebooks/blob/main/Intro_to_Numpy.ipynb\" target=\"_parent\"><img src=\"https://colab.research.google.com/assets/colab-badge.svg\" alt=\"Open In Colab\"/></a>"
      ]
    },
    {
      "cell_type": "markdown",
      "metadata": {
        "id": "ZvNsvUNNlZbi"
      },
      "source": [
        "---\n",
        "# Lambda School Data Science - Intro to Python  \n",
        "---\n",
        "# 05 - Numpy\n",
        "---\n",
        "\n"
      ]
    },
    {
      "cell_type": "markdown",
      "metadata": {
        "id": "y8HUQb0OOztX"
      },
      "source": [
        "##STOP! BEFORE GOING ANY FURTHER...  \n",
        "\n",
        "\n",
        "1. Click \"File\" at the top.\n",
        "2. Then, \"Save a Copy in Drive.\"\n",
        "3. Change the file name to \"FIRSTNAME_LASTNAME_1_2\"  \n",
        "\n",
        "Now you have a copy of this notebook in your Drive account. This is the copy you'll edit and submit. Be sure to do this for ***every*** assignment!\n",
        "\n"
      ]
    },
    {
      "cell_type": "markdown",
      "metadata": {
        "id": "xMq6Of2Gt24o"
      },
      "source": [
        "### Import Numpy as Np"
      ]
    },
    {
      "cell_type": "code",
      "metadata": {
        "id": "h3r0IvHVuGJb"
      },
      "source": [
        "import numpy as np\n",
        "import numpy as np\n",
        "\n"
      ],
      "execution_count": null,
      "outputs": []
    },
    {
      "cell_type": "code",
      "metadata": {
        "id": "oaJlo-3zk3VB",
        "colab": {
          "base_uri": "https://localhost:8080/",
          "height": 68
        },
        "outputId": "60677076-e065-40ab-8550-31c609630ad6"
      },
      "source": [
        "np.random.randint(100, size=(3,5)) "
      ],
      "execution_count": null,
      "outputs": [
        {
          "output_type": "execute_result",
          "data": {
            "text/plain": [
              "array([[39, 75, 16, 58, 41],\n",
              "       [58, 69, 80, 10, 72],\n",
              "       [80, 82,  8, 25, 42]])"
            ]
          },
          "metadata": {
            "tags": []
          },
          "execution_count": 13
        }
      ]
    },
    {
      "cell_type": "markdown",
      "metadata": {
        "id": "DvYie7qokbDH"
      },
      "source": [
        "### Generate random numbers\n",
        "Create a (5,3) Numpy array of random integer values between 0 and 100."
      ]
    },
    {
      "cell_type": "code",
      "metadata": {
        "id": "UNJo_50VktRs",
        "colab": {
          "base_uri": "https://localhost:8080/",
          "height": 68
        },
        "outputId": "38caad68-1262-49f2-8a16-1b40e3c723c6"
      },
      "source": [
        "array_a = np.random.randint(100, size=(3,5)) \n",
        "array_a \n"
      ],
      "execution_count": null,
      "outputs": [
        {
          "output_type": "execute_result",
          "data": {
            "text/plain": [
              "array([[52, 31,  4, 82, 46],\n",
              "       [54, 88, 71, 12, 95],\n",
              "       [40, 99, 98, 24, 52]])"
            ]
          },
          "metadata": {
            "tags": []
          },
          "execution_count": 25
        }
      ]
    },
    {
      "cell_type": "markdown",
      "metadata": {
        "id": "CYy4Zp5pk7tS"
      },
      "source": [
        "### Array practice\n",
        "Run each of these in their own code cell and comment it accordingly:\n",
        "\n",
        "*  Return the first row\n",
        "*  Return the last column\n",
        "*  Return the third column values from the 4th and 5th rows\n",
        "*  Multiply every value in the array by 2\n",
        "*  Divide every value by 3\n",
        "*  Increase the values in the first row by 12\n",
        "* Calculate the mean of the first column\n",
        "* Calculate the median of the array _after_ removing the 2 smallest values in the array\n",
        "* Calculate the standard deviation of the first 3 rows\n",
        "* Return values in the second column greater than 25\n",
        "* Return values in the array under 40"
      ]
    },
    {
      "cell_type": "code",
      "metadata": {
        "id": "lIxLoTfGl910"
      },
      "source": [
        "# Return the first row:"
      ],
      "execution_count": null,
      "outputs": []
    },
    {
      "cell_type": "code",
      "metadata": {
        "id": "lMafok6zoGB-",
        "colab": {
          "base_uri": "https://localhost:8080/",
          "height": 34
        },
        "outputId": "2f5ef8af-7977-4c9c-89b1-3f8271f4dd73"
      },
      "source": [
        "print(array_a[1]) \n",
        "\n",
        "\n",
        "\n"
      ],
      "execution_count": null,
      "outputs": [
        {
          "output_type": "stream",
          "text": [
            "[54 88 71 12 95]\n"
          ],
          "name": "stdout"
        }
      ]
    },
    {
      "cell_type": "code",
      "metadata": {
        "id": "AxBQDwZOhNui"
      },
      "source": [
        "# return the last column"
      ],
      "execution_count": null,
      "outputs": []
    },
    {
      "cell_type": "code",
      "metadata": {
        "id": "weznbQHDhRHk",
        "colab": {
          "base_uri": "https://localhost:8080/",
          "height": 68
        },
        "outputId": "186cf15b-15b7-4958-ca48-23c4daa79a21"
      },
      "source": [
        "print(array_a[0,4]) \n",
        "print(array_a[1,4]) \n",
        "print(array_a[2,4]) \n"
      ],
      "execution_count": null,
      "outputs": [
        {
          "output_type": "stream",
          "text": [
            "46\n",
            "95\n",
            "52\n"
          ],
          "name": "stdout"
        }
      ]
    },
    {
      "cell_type": "code",
      "metadata": {
        "id": "Ms3ah1H4ocS7",
        "colab": {
          "base_uri": "https://localhost:8080/",
          "height": 51
        },
        "outputId": "a2d785fd-d6f9-4a9b-b0f9-0183f61b2629"
      },
      "source": [
        "print(array_a[2,3])\n",
        "print(array_a[2,4])\n"
      ],
      "execution_count": null,
      "outputs": [
        {
          "output_type": "stream",
          "text": [
            "24\n",
            "52\n"
          ],
          "name": "stdout"
        }
      ]
    },
    {
      "cell_type": "markdown",
      "metadata": {
        "id": "qOkvSTATol4U"
      },
      "source": [
        "I've just realised I switched the 3 and 5 in the initial, so I'm carrying on this way and printing 4th and 5th row 3. \n"
      ]
    },
    {
      "cell_type": "markdown",
      "metadata": {
        "id": "sCgifeEDowvM"
      },
      "source": [
        "Multiply every value in the array by 2:\n"
      ]
    },
    {
      "cell_type": "code",
      "metadata": {
        "id": "r6z0jP_uo3mI",
        "colab": {
          "base_uri": "https://localhost:8080/",
          "height": 68
        },
        "outputId": "bd6f8ba3-16e6-46ac-c477-e1117d2289b3"
      },
      "source": [
        "array_a * 2 "
      ],
      "execution_count": null,
      "outputs": [
        {
          "output_type": "execute_result",
          "data": {
            "text/plain": [
              "array([[104,  62,   8, 164,  92],\n",
              "       [108, 176, 142,  24, 190],\n",
              "       [ 80, 198, 196,  48, 104]])"
            ]
          },
          "metadata": {
            "tags": []
          },
          "execution_count": 38
        }
      ]
    },
    {
      "cell_type": "markdown",
      "metadata": {
        "id": "oXwbngTNpN4o"
      },
      "source": [
        "Divide by 3 (not clear whether original array or resulting array... I will use original.\n"
      ]
    },
    {
      "cell_type": "code",
      "metadata": {
        "id": "K9Xlx1f4pUul",
        "colab": {
          "base_uri": "https://localhost:8080/",
          "height": 68
        },
        "outputId": "a4ba00e9-5655-41f7-8683-6cca4e73942a"
      },
      "source": [
        "array_a / 3 "
      ],
      "execution_count": null,
      "outputs": [
        {
          "output_type": "execute_result",
          "data": {
            "text/plain": [
              "array([[17.33333333, 10.33333333,  1.33333333, 27.33333333, 15.33333333],\n",
              "       [18.        , 29.33333333, 23.66666667,  4.        , 31.66666667],\n",
              "       [13.33333333, 33.        , 32.66666667,  8.        , 17.33333333]])"
            ]
          },
          "metadata": {
            "tags": []
          },
          "execution_count": 39
        }
      ]
    },
    {
      "cell_type": "markdown",
      "metadata": {
        "id": "SSDWSG66plC6"
      },
      "source": [
        "Increase the values in the first row by 12\n",
        " "
      ]
    },
    {
      "cell_type": "code",
      "metadata": {
        "id": "HeWwxWx8pspP",
        "colab": {
          "base_uri": "https://localhost:8080/",
          "height": 34
        },
        "outputId": "6afef9f9-6634-4575-db36-6128b3f1c4a1"
      },
      "source": [
        "array_a[0] + 12 "
      ],
      "execution_count": null,
      "outputs": [
        {
          "output_type": "execute_result",
          "data": {
            "text/plain": [
              "array([64, 43, 16, 94, 58])"
            ]
          },
          "metadata": {
            "tags": []
          },
          "execution_count": 40
        }
      ]
    },
    {
      "cell_type": "markdown",
      "metadata": {
        "id": "aizxTXLFp3lX"
      },
      "source": [
        "Calculate the mean of the first column \n"
      ]
    },
    {
      "cell_type": "code",
      "metadata": {
        "id": "fKBfQtYup-R0",
        "colab": {
          "base_uri": "https://localhost:8080/",
          "height": 34
        },
        "outputId": "3afe8997-b90f-40c2-af20-4128e6ae259e"
      },
      "source": [
        "np.mean(array_a)"
      ],
      "execution_count": null,
      "outputs": [
        {
          "output_type": "execute_result",
          "data": {
            "text/plain": [
              "56.53333333333333"
            ]
          },
          "metadata": {
            "tags": []
          },
          "execution_count": 44
        }
      ]
    },
    {
      "cell_type": "markdown",
      "metadata": {
        "id": "4fNVgtk7q9dg"
      },
      "source": [
        "I can't seem to get it to do the first column, it doesn't make sense and no matter how I try to index the values it doesn't want to compute.\n",
        "\n"
      ]
    },
    {
      "cell_type": "markdown",
      "metadata": {
        "id": "EdDkMOV-rMzk"
      },
      "source": [
        "Calculate the median of the array \n"
      ]
    },
    {
      "cell_type": "code",
      "metadata": {
        "id": "7Z_ZIlnUrT4y",
        "colab": {
          "base_uri": "https://localhost:8080/",
          "height": 34
        },
        "outputId": "84d1f47c-0164-4cbb-8f51-95c4ff18234f"
      },
      "source": [
        "np.median(array_a)\n"
      ],
      "execution_count": null,
      "outputs": [
        {
          "output_type": "execute_result",
          "data": {
            "text/plain": [
              "52.0"
            ]
          },
          "metadata": {
            "tags": []
          },
          "execution_count": 45
        }
      ]
    },
    {
      "cell_type": "code",
      "metadata": {
        "id": "114alsitrgZt",
        "colab": {
          "base_uri": "https://localhost:8080/",
          "height": 34
        },
        "outputId": "9ced4627-2257-484d-a84d-ecd91c2b0a94"
      },
      "source": [
        "np.std(array_a)"
      ],
      "execution_count": null,
      "outputs": [
        {
          "output_type": "execute_result",
          "data": {
            "text/plain": [
              "30.260792381488553"
            ]
          },
          "metadata": {
            "tags": []
          },
          "execution_count": 46
        }
      ]
    },
    {
      "cell_type": "markdown",
      "metadata": {
        "id": "rbhQ3AJxrqWF"
      },
      "source": [
        "Return values greater than 25 in the 2nd row\n"
      ]
    },
    {
      "cell_type": "code",
      "metadata": {
        "id": "2yGyE0MmrxeG",
        "colab": {
          "base_uri": "https://localhost:8080/",
          "height": 34
        },
        "outputId": "2cc842d3-b60b-47a9-b832-8692e7d55d1f"
      },
      "source": [
        "print(array_a[1]>25) \n"
      ],
      "execution_count": null,
      "outputs": [
        {
          "output_type": "stream",
          "text": [
            "[ True  True  True False  True]\n"
          ],
          "name": "stdout"
        }
      ]
    },
    {
      "cell_type": "code",
      "metadata": {
        "id": "h2mlPKws4a-5",
        "colab": {
          "base_uri": "https://localhost:8080/",
          "height": 34
        },
        "outputId": "a2f51d85-402c-498d-bc96-d656fee6f121"
      },
      "source": [
        "array_a[array_a > 25] "
      ],
      "execution_count": null,
      "outputs": [
        {
          "output_type": "execute_result",
          "data": {
            "text/plain": [
              "array([52, 31, 82, 46, 54, 88, 71, 95, 40, 99, 98, 52])"
            ]
          },
          "metadata": {
            "tags": []
          },
          "execution_count": 55
        }
      ]
    },
    {
      "cell_type": "markdown",
      "metadata": {
        "id": "Gag9S-Cksau1"
      },
      "source": [
        "Return values under 40 in the array \n"
      ]
    },
    {
      "cell_type": "code",
      "metadata": {
        "id": "m7o2zvK3s7r3",
        "colab": {
          "base_uri": "https://localhost:8080/",
          "height": 68
        },
        "outputId": "47439f63-a53c-4c1c-c266-57a6ce939985"
      },
      "source": [
        "print(array_a < 40)\n",
        " "
      ],
      "execution_count": null,
      "outputs": [
        {
          "output_type": "stream",
          "text": [
            "[[False  True  True False False]\n",
            " [False False False  True False]\n",
            " [False False False  True False]]\n"
          ],
          "name": "stdout"
        }
      ]
    },
    {
      "cell_type": "code",
      "metadata": {
        "id": "coOAmordtwQq",
        "colab": {
          "base_uri": "https://localhost:8080/",
          "height": 34
        },
        "outputId": "350cf36f-2222-449b-a262-51e14e4ec074"
      },
      "source": [
        "array_a[array_a < 40]\n",
        "\n"
      ],
      "execution_count": null,
      "outputs": [
        {
          "output_type": "execute_result",
          "data": {
            "text/plain": [
              "array([31,  4, 12, 24])"
            ]
          },
          "metadata": {
            "tags": []
          },
          "execution_count": 54
        }
      ]
    }
  ]
}