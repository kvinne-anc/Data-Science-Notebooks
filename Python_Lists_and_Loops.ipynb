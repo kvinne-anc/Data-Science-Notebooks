{
  "nbformat": 4,
  "nbformat_minor": 0,
  "metadata": {
    "colab": {
      "name": "Python_Lists_and_Loops.ipynb",
      "provenance": [],
      "collapsed_sections": [],
      "include_colab_link": true
    },
    "kernelspec": {
      "name": "python3",
      "display_name": "Python 3"
    }
  },
  "cells": [
    {
      "cell_type": "markdown",
      "metadata": {
        "id": "view-in-github",
        "colab_type": "text"
      },
      "source": [
        "<a href=\"https://colab.research.google.com/github/kvinne-anc/Data-Science-Notebooks/blob/main/Python_Lists_and_Loops.ipynb\" target=\"_parent\"><img src=\"https://colab.research.google.com/assets/colab-badge.svg\" alt=\"Open In Colab\"/></a>"
      ]
    },
    {
      "cell_type": "markdown",
      "metadata": {
        "id": "ZvNsvUNNlZbi"
      },
      "source": [
        "---\n",
        "# Lambda School Data Science - Intro to Python  \n",
        "---\n",
        "# 03 - Python Lists & Loops\n",
        "---\n",
        "\n"
      ]
    },
    {
      "cell_type": "markdown",
      "metadata": {
        "id": "y8HUQb0OOztX"
      },
      "source": [
        "##STOP! BEFORE GOING ANY FURTHER...  \n",
        "\n",
        "\n",
        "1. Click \"File\" at the top.\n",
        "2. Then, \"Save a Copy in Drive.\"\n",
        "3. Change the file name to \"FIRSTNAME_LASTNAME_1_2\"  \n",
        "\n",
        "Now you have a copy of this notebook in your Drive account. This is the copy you'll edit and submit. Be sure to do this for ***every*** assignment!\n",
        "\n"
      ]
    },
    {
      "cell_type": "markdown",
      "metadata": {
        "id": "o57NvhYkBjKH"
      },
      "source": [
        "## Part 1: Lists\n"
      ]
    },
    {
      "cell_type": "markdown",
      "metadata": {
        "id": "4haXpvn1QXW_"
      },
      "source": [
        "### Use the provided lists to answer the questions and prompts.\n",
        "Make sure to run the cell so the lists are declared with their corresponding values."
      ]
    },
    {
      "cell_type": "code",
      "metadata": {
        "id": "PweN-CTws2EV"
      },
      "source": [
        "heights = [184, 177, 190, 188, 159, 166]\n",
        "weights = [84.5, 81.8, 86.1, 92.2, 69.6, 72.0 ]\n",
        "names = ['John', 'Ryan', 'Bobby', 'Pete', 'Esther', 'Jane']"
      ],
      "execution_count": null,
      "outputs": []
    },
    {
      "cell_type": "markdown",
      "metadata": {
        "id": "hC6x5WJaMRGx"
      },
      "source": [
        "### 1.1 Create a new empty list named \"BMI\"."
      ]
    },
    {
      "cell_type": "code",
      "metadata": {
        "id": "blYjgR9iMdWF"
      },
      "source": [
        "BMI = [] \n"
      ],
      "execution_count": null,
      "outputs": []
    },
    {
      "cell_type": "markdown",
      "metadata": {
        "id": "QSk1zFf4Qbzk"
      },
      "source": [
        "### 1.2 Combine the three lists into a new list where each element is a person's name, weight, and height. Call it \"person_data\"."
      ]
    },
    {
      "cell_type": "code",
      "metadata": {
        "id": "i-d3b4fqQe9z",
        "colab": {
          "base_uri": "https://localhost:8080/",
          "height": 34
        },
        "outputId": "1e4c15b8-3b94-4032-bb2c-ffc903074c5b"
      },
      "source": [
        "person_data = (['John', 184, 84.5],['Ryan', 177, 81.8],['Bobby', 190, 86.1],['Pete', 188, 92.2,],['Esther', 159, 69.6],['Jane', 166, 72.0])\n",
        "type(person_data)\n",
        "\n"
      ],
      "execution_count": null,
      "outputs": [
        {
          "output_type": "execute_result",
          "data": {
            "text/plain": [
              "tuple"
            ]
          },
          "metadata": {
            "tags": []
          },
          "execution_count": 14
        }
      ]
    },
    {
      "cell_type": "markdown",
      "metadata": {
        "id": "y_dSEp2ZNS20"
      },
      "source": [
        "### 1.3 Retrieve the last element of person_data."
      ]
    },
    {
      "cell_type": "code",
      "metadata": {
        "id": "h6DN1X3KNTHo",
        "colab": {
          "base_uri": "https://localhost:8080/",
          "height": 119
        },
        "outputId": "fb52f9e8-a1cf-499e-8ac9-a6c95a0d397b"
      },
      "source": [
        "person_data = [['John', 184, 84.5],['Ryan', 177, 81.8],['Bobby', 190, 86.1],['Pete', 188, 92.2,],['Esther', 159, 69.6],['Jane', 166, 72.0]]\n",
        "\n",
        "person_data"
      ],
      "execution_count": null,
      "outputs": [
        {
          "output_type": "execute_result",
          "data": {
            "text/plain": [
              "[['John', 184, 84.5],\n",
              " ['Ryan', 177, 81.8],\n",
              " ['Bobby', 190, 86.1],\n",
              " ['Pete', 188, 92.2],\n",
              " ['Esther', 159, 69.6],\n",
              " ['Jane', 166, 72.0]]"
            ]
          },
          "metadata": {
            "tags": []
          },
          "execution_count": 23
        }
      ]
    },
    {
      "cell_type": "code",
      "metadata": {
        "id": "TxYOeHDQ5pDz",
        "colab": {
          "base_uri": "https://localhost:8080/",
          "height": 34
        },
        "outputId": "95cbe083-e3fe-43bb-c39c-5b51d9adbe77"
      },
      "source": [
        "\n",
        "person_data[5]\n",
        "\n"
      ],
      "execution_count": null,
      "outputs": [
        {
          "output_type": "execute_result",
          "data": {
            "text/plain": [
              "['Jane', 166, 72.0]"
            ]
          },
          "metadata": {
            "tags": []
          },
          "execution_count": 25
        }
      ]
    },
    {
      "cell_type": "markdown",
      "metadata": {
        "id": "_L1Cbf6lNd5s"
      },
      "source": [
        "### 1.4 Retrieve the 2nd and 3rd elements of person_data."
      ]
    },
    {
      "cell_type": "code",
      "metadata": {
        "id": "ZFxi1aWPNcse",
        "colab": {
          "base_uri": "https://localhost:8080/",
          "height": 34
        },
        "outputId": "078486fe-3332-407a-af6b-6c86552dfec0"
      },
      "source": [
        "person_data[1], person_data[2]\n"
      ],
      "execution_count": null,
      "outputs": [
        {
          "output_type": "execute_result",
          "data": {
            "text/plain": [
              "(['Ryan', 177, 81.8], ['Bobby', 190, 86.1])"
            ]
          },
          "metadata": {
            "tags": []
          },
          "execution_count": 29
        }
      ]
    },
    {
      "cell_type": "code",
      "metadata": {
        "id": "U2d_8cJS-Vip",
        "colab": {
          "base_uri": "https://localhost:8080/",
          "height": 34
        },
        "outputId": "bef0bb05-d0e1-4ad1-9b24-b30126979e9e"
      },
      "source": [
        "person_data[1:3]\n"
      ],
      "execution_count": null,
      "outputs": [
        {
          "output_type": "execute_result",
          "data": {
            "text/plain": [
              "[['Ryan', 177, 81.8], ['Bobby', 190, 86.1]]"
            ]
          },
          "metadata": {
            "tags": []
          },
          "execution_count": 28
        }
      ]
    },
    {
      "cell_type": "markdown",
      "metadata": {
        "id": "MzTE8IADOKUR"
      },
      "source": [
        "### 1.5 Change the 1st element of person_data: increase weight to 84.9. Keep the other values unchanged."
      ]
    },
    {
      "cell_type": "code",
      "metadata": {
        "id": "v-GL2nysOJLm",
        "colab": {
          "base_uri": "https://localhost:8080/",
          "height": 119
        },
        "outputId": "64e76528-b876-4619-d87d-4a8752fe6f8d"
      },
      "source": [
        "person_data[0][2]=84.9\n",
        "person_data\n"
      ],
      "execution_count": null,
      "outputs": [
        {
          "output_type": "execute_result",
          "data": {
            "text/plain": [
              "[['John', 184, 84.9],\n",
              " ['Ryan', 177, 81.8],\n",
              " ['Bobby', 190, 86.1],\n",
              " ['Pete', 188, 92.2],\n",
              " ['Esther', 159, 69.6],\n",
              " ['Jane', 166, 72.0]]"
            ]
          },
          "metadata": {
            "tags": []
          },
          "execution_count": 24
        }
      ]
    },
    {
      "cell_type": "markdown",
      "metadata": {
        "id": "P1f4pyPjNlzm"
      },
      "source": [
        "### 1.6 Add another person, Samantha, to person_data. Her height is 162 cm and her weight is 51.3 kg. "
      ]
    },
    {
      "cell_type": "code",
      "metadata": {
        "id": "FCHkHuwRNc17",
        "colab": {
          "base_uri": "https://localhost:8080/",
          "height": 119
        },
        "outputId": "d154121e-1c06-4f14-ceb5-5d93591491d5"
      },
      "source": [
        "person_data\n"
      ],
      "execution_count": null,
      "outputs": [
        {
          "output_type": "execute_result",
          "data": {
            "text/plain": [
              "[['John', 184, 84.9],\n",
              " ['Ryan', 177, 81.8],\n",
              " ['Bobby', 190, 86.1],\n",
              " ['Pete', 188, 92.2],\n",
              " ['Esther', 159, 69.6],\n",
              " ['Jane', 166, 72.0]]"
            ]
          },
          "metadata": {
            "tags": []
          },
          "execution_count": 30
        }
      ]
    },
    {
      "cell_type": "code",
      "metadata": {
        "id": "f_pP9LjMZQxN",
        "colab": {
          "base_uri": "https://localhost:8080/",
          "height": 136
        },
        "outputId": "d8b74cfb-d2ef-40b1-f8db-12f4672edb33"
      },
      "source": [
        "person_data.append(['Samantha', 162, 51.3])\n",
        "\n",
        "person_data\n",
        "\n",
        "\n",
        "                   \n"
      ],
      "execution_count": null,
      "outputs": [
        {
          "output_type": "execute_result",
          "data": {
            "text/plain": [
              "[['John', 184, 84.9],\n",
              " ['Ryan', 177, 81.8],\n",
              " ['Bobby', 190, 86.1],\n",
              " ['Pete', 188, 92.2],\n",
              " ['Esther', 159, 69.6],\n",
              " ['Jane', 166, 72.0],\n",
              " ['Samantha', 162, 51.3]]"
            ]
          },
          "metadata": {
            "tags": []
          },
          "execution_count": 37
        }
      ]
    },
    {
      "cell_type": "markdown",
      "metadata": {
        "id": "_pdhsa2YOxwj"
      },
      "source": [
        "## Part 2: Loops"
      ]
    },
    {
      "cell_type": "markdown",
      "metadata": {
        "id": "1R_O3Uu3O2--"
      },
      "source": [
        "### 2.1 Explain a for loop in your own words."
      ]
    },
    {
      "cell_type": "code",
      "metadata": {
        "id": "T34gNW4hNc97"
      },
      "source": [
        "# Comment your answer like so...\n",
        "# A for loop is a way of printing out values or things in a list, and iterating over a sequence\n"
      ],
      "execution_count": null,
      "outputs": []
    },
    {
      "cell_type": "markdown",
      "metadata": {
        "id": "n-K_-jnoPArb"
      },
      "source": [
        "*Or add it to this Text Cell...*"
      ]
    },
    {
      "cell_type": "markdown",
      "metadata": {
        "id": "73tWnAoaPHNf"
      },
      "source": [
        "### 2.2 Use a for loop to calculate the BMI of each person.\n",
        ">$\\frac{Weight(kg)}{Height(m)^2} = BMI$  "
      ]
    },
    {
      "cell_type": "code",
      "metadata": {
        "id": "jDNPq4I3Nc8J"
      },
      "source": [
        "# I can't figure this out for my LIFE \n",
        "# So I am moving on - I don't understand how to pinpoint the values \n",
        "# that I want in my formula, and it doesn't seem like it should be this complicated \n",
        "\n",
        "\n"
      ],
      "execution_count": null,
      "outputs": []
    },
    {
      "cell_type": "code",
      "metadata": {
        "id": "f-ZXTaQDyV5L"
      },
      "source": [
        ""
      ],
      "execution_count": null,
      "outputs": []
    },
    {
      "cell_type": "code",
      "metadata": {
        "id": "tWM8lfI_xRkV"
      },
      "source": [
        ""
      ],
      "execution_count": null,
      "outputs": []
    },
    {
      "cell_type": "code",
      "metadata": {
        "id": "Gz_GC0-dnkKH"
      },
      "source": [
        ""
      ],
      "execution_count": null,
      "outputs": []
    },
    {
      "cell_type": "markdown",
      "metadata": {
        "id": "rIRg70QvOxCu"
      },
      "source": [
        "### 2.2 BONUS: Do it using list comprehension."
      ]
    },
    {
      "cell_type": "code",
      "metadata": {
        "id": "hLfuTidrPhiQ"
      },
      "source": [
        "# No idea"
      ],
      "execution_count": null,
      "outputs": []
    }
  ]
}